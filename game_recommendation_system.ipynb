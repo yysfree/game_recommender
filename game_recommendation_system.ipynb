{
 "cells": [
  {
   "cell_type": "code",
   "execution_count": 2,
   "metadata": {},
   "outputs": [],
   "source": [
    "import numpy as np\n",
    "import pandas as pd\n",
    "import matplotlib.pyplot as plt\n",
    "%matplotlib inline\n",
    "import seaborn as sns\n",
    "import math\n",
    "from scipy import stats\n",
    "import statsmodels.api as sm\n",
    "import itertools\n",
    "import re"
   ]
  },
  {
   "cell_type": "markdown",
   "metadata": {},
   "source": [
    "## Steam User Dataset"
   ]
  },
  {
   "cell_type": "markdown",
   "metadata": {},
   "source": [
    "#### Step 1: Read in the data and take a look at the dataset"
   ]
  },
  {
   "cell_type": "code",
   "execution_count": 3,
   "metadata": {},
   "outputs": [
    {
     "name": "stdout",
     "output_type": "stream",
     "text": [
      "<class 'pandas.core.frame.DataFrame'>\n",
      "RangeIndex: 200000 entries, 0 to 199999\n",
      "Data columns (total 5 columns):\n",
      " #   Column    Non-Null Count   Dtype  \n",
      "---  ------    --------------   -----  \n",
      " 0   id        200000 non-null  int64  \n",
      " 1   game      200000 non-null  object \n",
      " 2   behavior  200000 non-null  object \n",
      " 3   hrs       200000 non-null  float64\n",
      " 4   tmp       200000 non-null  int64  \n",
      "dtypes: float64(1), int64(2), object(2)\n",
      "memory usage: 7.6+ MB\n"
     ]
    }
   ],
   "source": [
    "df1 = pd.read_csv('data/Steam_users.csv', \n",
    "                  header=None, names=['id', 'game', 'behavior', 'hrs', 'tmp'])\n",
    "df1.info()"
   ]
  },
  {
   "cell_type": "code",
   "execution_count": 6,
   "metadata": {},
   "outputs": [
    {
     "data": {
      "text/html": [
       "<div>\n",
       "<style scoped>\n",
       "    .dataframe tbody tr th:only-of-type {\n",
       "        vertical-align: middle;\n",
       "    }\n",
       "\n",
       "    .dataframe tbody tr th {\n",
       "        vertical-align: top;\n",
       "    }\n",
       "\n",
       "    .dataframe thead th {\n",
       "        text-align: right;\n",
       "    }\n",
       "</style>\n",
       "<table border=\"1\" class=\"dataframe\">\n",
       "  <thead>\n",
       "    <tr style=\"text-align: right;\">\n",
       "      <th></th>\n",
       "      <th>id</th>\n",
       "      <th>game</th>\n",
       "      <th>behavior</th>\n",
       "      <th>hrs</th>\n",
       "      <th>tmp</th>\n",
       "    </tr>\n",
       "  </thead>\n",
       "  <tbody>\n",
       "    <tr>\n",
       "      <th>0</th>\n",
       "      <td>151603712</td>\n",
       "      <td>The Elder Scrolls V Skyrim</td>\n",
       "      <td>purchase</td>\n",
       "      <td>1.0</td>\n",
       "      <td>0</td>\n",
       "    </tr>\n",
       "    <tr>\n",
       "      <th>1</th>\n",
       "      <td>151603712</td>\n",
       "      <td>The Elder Scrolls V Skyrim</td>\n",
       "      <td>play</td>\n",
       "      <td>273.0</td>\n",
       "      <td>0</td>\n",
       "    </tr>\n",
       "    <tr>\n",
       "      <th>2</th>\n",
       "      <td>151603712</td>\n",
       "      <td>Fallout 4</td>\n",
       "      <td>purchase</td>\n",
       "      <td>1.0</td>\n",
       "      <td>0</td>\n",
       "    </tr>\n",
       "    <tr>\n",
       "      <th>3</th>\n",
       "      <td>151603712</td>\n",
       "      <td>Fallout 4</td>\n",
       "      <td>play</td>\n",
       "      <td>87.0</td>\n",
       "      <td>0</td>\n",
       "    </tr>\n",
       "    <tr>\n",
       "      <th>4</th>\n",
       "      <td>151603712</td>\n",
       "      <td>Spore</td>\n",
       "      <td>purchase</td>\n",
       "      <td>1.0</td>\n",
       "      <td>0</td>\n",
       "    </tr>\n",
       "  </tbody>\n",
       "</table>\n",
       "</div>"
      ],
      "text/plain": [
       "          id                        game  behavior    hrs  tmp\n",
       "0  151603712  The Elder Scrolls V Skyrim  purchase    1.0    0\n",
       "1  151603712  The Elder Scrolls V Skyrim      play  273.0    0\n",
       "2  151603712                   Fallout 4  purchase    1.0    0\n",
       "3  151603712                   Fallout 4      play   87.0    0\n",
       "4  151603712                       Spore  purchase    1.0    0"
      ]
     },
     "execution_count": 6,
     "metadata": {},
     "output_type": "execute_result"
    }
   ],
   "source": [
    "df1.head()"
   ]
  },
  {
   "cell_type": "code",
   "execution_count": 22,
   "metadata": {},
   "outputs": [
    {
     "name": "stdout",
     "output_type": "stream",
     "text": [
      "(12393, 4)\n",
      "(5155, 4)\n"
     ]
    }
   ],
   "source": [
    "print(df1.groupby('id').count().shape)\n",
    "print(df1.groupby('game').count().shape)"
   ]
  },
  {
   "cell_type": "markdown",
   "metadata": {},
   "source": [
    "The user dataset contains a total of 200,000 rows, including 5,155 unique games and 12,393 unique users. "
   ]
  },
  {
   "cell_type": "markdown",
   "metadata": {},
   "source": [
    "#### Step 2: Drop the unrelated column to the project"
   ]
  },
  {
   "cell_type": "code",
   "execution_count": 23,
   "metadata": {},
   "outputs": [
    {
     "data": {
      "text/plain": [
       "0    200000\n",
       "Name: tmp, dtype: int64"
      ]
     },
     "execution_count": 23,
     "metadata": {},
     "output_type": "execute_result"
    }
   ],
   "source": [
    "df1['tmp'].value_counts()"
   ]
  },
  {
   "cell_type": "code",
   "execution_count": 24,
   "metadata": {},
   "outputs": [],
   "source": [
    "# the 'tmp' column only has value \"0\", and won't be used in the project\n",
    "user = df1.drop('tmp', axis=1)"
   ]
  },
  {
   "cell_type": "markdown",
   "metadata": {},
   "source": [
    "#### Step 3 Reshape the dataset"
   ]
  },
  {
   "cell_type": "code",
   "execution_count": 27,
   "metadata": {},
   "outputs": [
    {
     "data": {
      "text/plain": [
       "0         1\n",
       "1         0\n",
       "2         1\n",
       "3         0\n",
       "4         1\n",
       "         ..\n",
       "199995    0\n",
       "199996    1\n",
       "199997    0\n",
       "199998    1\n",
       "199999    0\n",
       "Name: purchase, Length: 200000, dtype: int64"
      ]
     },
     "execution_count": 27,
     "metadata": {},
     "output_type": "execute_result"
    }
   ],
   "source": [
    "# Create a new column 'purchase' to represent user's ownership of the game\n",
    "user['purchase'] = (user['behavior'] == 'purchase').astype(int)"
   ]
  },
  {
   "cell_type": "code",
   "execution_count": 30,
   "metadata": {},
   "outputs": [],
   "source": [
    "# Create a new column 'play' to represent if user have played the game\n",
    "user['play'] = (user['behavior'] == 'play').astype(int)"
   ]
  },
  {
   "cell_type": "code",
   "execution_count": 31,
   "metadata": {},
   "outputs": [],
   "source": [
    "# Remove the purchase value to make 'hrs' column represent play hours of each game\n",
    "user['hrs'] = user['hrs'] - user['purchase']"
   ]
  },
  {
   "cell_type": "code",
   "execution_count": 59,
   "metadata": {},
   "outputs": [
    {
     "data": {
      "text/html": [
       "<div>\n",
       "<style scoped>\n",
       "    .dataframe tbody tr th:only-of-type {\n",
       "        vertical-align: middle;\n",
       "    }\n",
       "\n",
       "    .dataframe tbody tr th {\n",
       "        vertical-align: top;\n",
       "    }\n",
       "\n",
       "    .dataframe thead th {\n",
       "        text-align: right;\n",
       "    }\n",
       "</style>\n",
       "<table border=\"1\" class=\"dataframe\">\n",
       "  <thead>\n",
       "    <tr style=\"text-align: right;\">\n",
       "      <th></th>\n",
       "      <th>id</th>\n",
       "      <th>game</th>\n",
       "      <th>hrs</th>\n",
       "      <th>purchase</th>\n",
       "      <th>play</th>\n",
       "    </tr>\n",
       "  </thead>\n",
       "  <tbody>\n",
       "    <tr>\n",
       "      <th>0</th>\n",
       "      <td>5250</td>\n",
       "      <td>Alien Swarm</td>\n",
       "      <td>4.9</td>\n",
       "      <td>1</td>\n",
       "      <td>1</td>\n",
       "    </tr>\n",
       "    <tr>\n",
       "      <th>1</th>\n",
       "      <td>5250</td>\n",
       "      <td>Cities Skylines</td>\n",
       "      <td>144.0</td>\n",
       "      <td>1</td>\n",
       "      <td>1</td>\n",
       "    </tr>\n",
       "    <tr>\n",
       "      <th>2</th>\n",
       "      <td>5250</td>\n",
       "      <td>Counter-Strike</td>\n",
       "      <td>0.0</td>\n",
       "      <td>1</td>\n",
       "      <td>0</td>\n",
       "    </tr>\n",
       "    <tr>\n",
       "      <th>3</th>\n",
       "      <td>5250</td>\n",
       "      <td>Counter-Strike Source</td>\n",
       "      <td>0.0</td>\n",
       "      <td>1</td>\n",
       "      <td>0</td>\n",
       "    </tr>\n",
       "    <tr>\n",
       "      <th>4</th>\n",
       "      <td>5250</td>\n",
       "      <td>Day of Defeat</td>\n",
       "      <td>0.0</td>\n",
       "      <td>1</td>\n",
       "      <td>0</td>\n",
       "    </tr>\n",
       "    <tr>\n",
       "      <th>...</th>\n",
       "      <td>...</td>\n",
       "      <td>...</td>\n",
       "      <td>...</td>\n",
       "      <td>...</td>\n",
       "      <td>...</td>\n",
       "    </tr>\n",
       "    <tr>\n",
       "      <th>128799</th>\n",
       "      <td>309626088</td>\n",
       "      <td>Age of Empires II HD Edition</td>\n",
       "      <td>6.7</td>\n",
       "      <td>1</td>\n",
       "      <td>1</td>\n",
       "    </tr>\n",
       "    <tr>\n",
       "      <th>128800</th>\n",
       "      <td>309812026</td>\n",
       "      <td>Counter-Strike Nexon Zombies</td>\n",
       "      <td>0.0</td>\n",
       "      <td>1</td>\n",
       "      <td>0</td>\n",
       "    </tr>\n",
       "    <tr>\n",
       "      <th>128801</th>\n",
       "      <td>309812026</td>\n",
       "      <td>Robocraft</td>\n",
       "      <td>0.0</td>\n",
       "      <td>1</td>\n",
       "      <td>0</td>\n",
       "    </tr>\n",
       "    <tr>\n",
       "      <th>128802</th>\n",
       "      <td>309824202</td>\n",
       "      <td>Dota 2</td>\n",
       "      <td>0.7</td>\n",
       "      <td>1</td>\n",
       "      <td>1</td>\n",
       "    </tr>\n",
       "    <tr>\n",
       "      <th>128803</th>\n",
       "      <td>309903146</td>\n",
       "      <td>Dota 2</td>\n",
       "      <td>0.2</td>\n",
       "      <td>1</td>\n",
       "      <td>1</td>\n",
       "    </tr>\n",
       "  </tbody>\n",
       "</table>\n",
       "<p>128804 rows × 5 columns</p>\n",
       "</div>"
      ],
      "text/plain": [
       "               id                          game    hrs  purchase  play\n",
       "0            5250                   Alien Swarm    4.9         1     1\n",
       "1            5250               Cities Skylines  144.0         1     1\n",
       "2            5250                Counter-Strike    0.0         1     0\n",
       "3            5250         Counter-Strike Source    0.0         1     0\n",
       "4            5250                 Day of Defeat    0.0         1     0\n",
       "...           ...                           ...    ...       ...   ...\n",
       "128799  309626088  Age of Empires II HD Edition    6.7         1     1\n",
       "128800  309812026  Counter-Strike Nexon Zombies    0.0         1     0\n",
       "128801  309812026                     Robocraft    0.0         1     0\n",
       "128802  309824202                        Dota 2    0.7         1     1\n",
       "128803  309903146                        Dota 2    0.2         1     1\n",
       "\n",
       "[128804 rows x 5 columns]"
      ]
     },
     "execution_count": 59,
     "metadata": {},
     "output_type": "execute_result"
    }
   ],
   "source": [
    "# Remove the 0 value in 'hrs'\n",
    "user_clean = user.groupby(by=['id', 'game']).agg({'hrs': 'sum', 'purchase': 'sum', 'play': 'sum'}).reset_index()\n",
    "user_clean"
   ]
  },
  {
   "cell_type": "markdown",
   "metadata": {},
   "source": [
    "#### Step 4: Exploratory Data Analysis"
   ]
  },
  {
   "cell_type": "code",
   "execution_count": 35,
   "metadata": {},
   "outputs": [
    {
     "data": {
      "text/html": [
       "<div>\n",
       "<style scoped>\n",
       "    .dataframe tbody tr th:only-of-type {\n",
       "        vertical-align: middle;\n",
       "    }\n",
       "\n",
       "    .dataframe tbody tr th {\n",
       "        vertical-align: top;\n",
       "    }\n",
       "\n",
       "    .dataframe thead th {\n",
       "        text-align: right;\n",
       "    }\n",
       "</style>\n",
       "<table border=\"1\" class=\"dataframe\">\n",
       "  <thead>\n",
       "    <tr style=\"text-align: right;\">\n",
       "      <th></th>\n",
       "      <th>id</th>\n",
       "      <th>hrs</th>\n",
       "    </tr>\n",
       "    <tr>\n",
       "      <th>game</th>\n",
       "      <th></th>\n",
       "      <th></th>\n",
       "    </tr>\n",
       "  </thead>\n",
       "  <tbody>\n",
       "    <tr>\n",
       "      <th>007 Legends</th>\n",
       "      <td>1</td>\n",
       "      <td>0.7</td>\n",
       "    </tr>\n",
       "    <tr>\n",
       "      <th>0RBITALIS</th>\n",
       "      <td>3</td>\n",
       "      <td>1.2</td>\n",
       "    </tr>\n",
       "    <tr>\n",
       "      <th>1... 2... 3... KICK IT! (Drop That Beat Like an Ugly Baby)</th>\n",
       "      <td>7</td>\n",
       "      <td>20.0</td>\n",
       "    </tr>\n",
       "    <tr>\n",
       "      <th>10 Second Ninja</th>\n",
       "      <td>6</td>\n",
       "      <td>5.9</td>\n",
       "    </tr>\n",
       "    <tr>\n",
       "      <th>10,000,000</th>\n",
       "      <td>1</td>\n",
       "      <td>3.6</td>\n",
       "    </tr>\n",
       "    <tr>\n",
       "      <th>...</th>\n",
       "      <td>...</td>\n",
       "      <td>...</td>\n",
       "    </tr>\n",
       "    <tr>\n",
       "      <th>sZone-Online</th>\n",
       "      <td>102</td>\n",
       "      <td>56.7</td>\n",
       "    </tr>\n",
       "    <tr>\n",
       "      <th>samurai_jazz</th>\n",
       "      <td>1</td>\n",
       "      <td>0.0</td>\n",
       "    </tr>\n",
       "    <tr>\n",
       "      <th>the static speaks my name</th>\n",
       "      <td>13</td>\n",
       "      <td>2.0</td>\n",
       "    </tr>\n",
       "    <tr>\n",
       "      <th>theHunter</th>\n",
       "      <td>248</td>\n",
       "      <td>309.2</td>\n",
       "    </tr>\n",
       "    <tr>\n",
       "      <th>theHunter Primal</th>\n",
       "      <td>4</td>\n",
       "      <td>85.9</td>\n",
       "    </tr>\n",
       "  </tbody>\n",
       "</table>\n",
       "<p>5155 rows × 2 columns</p>\n",
       "</div>"
      ],
      "text/plain": [
       "                                                     id    hrs\n",
       "game                                                          \n",
       "007 Legends                                           1    0.7\n",
       "0RBITALIS                                             3    1.2\n",
       "1... 2... 3... KICK IT! (Drop That Beat Like an...    7   20.0\n",
       "10 Second Ninja                                       6    5.9\n",
       "10,000,000                                            1    3.6\n",
       "...                                                 ...    ...\n",
       "sZone-Online                                        102   56.7\n",
       "samurai_jazz                                          1    0.0\n",
       "the static speaks my name                            13    2.0\n",
       "theHunter                                           248  309.2\n",
       "theHunter Primal                                      4   85.9\n",
       "\n",
       "[5155 rows x 2 columns]"
      ]
     },
     "execution_count": 35,
     "metadata": {},
     "output_type": "execute_result"
    }
   ],
   "source": [
    "# Reformat the dataframe\n",
    "user_data = user_clean.groupby(by='game').agg({'id': 'count', 'hrs': 'sum'})"
   ]
  },
  {
   "cell_type": "code",
   "execution_count": 39,
   "metadata": {},
   "outputs": [
    {
     "data": {
      "text/html": [
       "<div>\n",
       "<style scoped>\n",
       "    .dataframe tbody tr th:only-of-type {\n",
       "        vertical-align: middle;\n",
       "    }\n",
       "\n",
       "    .dataframe tbody tr th {\n",
       "        vertical-align: top;\n",
       "    }\n",
       "\n",
       "    .dataframe thead th {\n",
       "        text-align: right;\n",
       "    }\n",
       "</style>\n",
       "<table border=\"1\" class=\"dataframe\">\n",
       "  <thead>\n",
       "    <tr style=\"text-align: right;\">\n",
       "      <th></th>\n",
       "      <th>game</th>\n",
       "      <th>id</th>\n",
       "      <th>hrs</th>\n",
       "    </tr>\n",
       "  </thead>\n",
       "  <tbody>\n",
       "    <tr>\n",
       "      <th>0</th>\n",
       "      <td>Dota 2</td>\n",
       "      <td>4841</td>\n",
       "      <td>981684.6</td>\n",
       "    </tr>\n",
       "    <tr>\n",
       "      <th>1</th>\n",
       "      <td>Team Fortress 2</td>\n",
       "      <td>2323</td>\n",
       "      <td>173673.3</td>\n",
       "    </tr>\n",
       "    <tr>\n",
       "      <th>2</th>\n",
       "      <td>Unturned</td>\n",
       "      <td>1563</td>\n",
       "      <td>16096.4</td>\n",
       "    </tr>\n",
       "    <tr>\n",
       "      <th>3</th>\n",
       "      <td>Counter-Strike Global Offensive</td>\n",
       "      <td>1412</td>\n",
       "      <td>322771.6</td>\n",
       "    </tr>\n",
       "    <tr>\n",
       "      <th>4</th>\n",
       "      <td>Half-Life 2 Lost Coast</td>\n",
       "      <td>981</td>\n",
       "      <td>184.4</td>\n",
       "    </tr>\n",
       "    <tr>\n",
       "      <th>...</th>\n",
       "      <td>...</td>\n",
       "      <td>...</td>\n",
       "      <td>...</td>\n",
       "    </tr>\n",
       "    <tr>\n",
       "      <th>5150</th>\n",
       "      <td>EverQuest Seeds of Destruction</td>\n",
       "      <td>1</td>\n",
       "      <td>0.3</td>\n",
       "    </tr>\n",
       "    <tr>\n",
       "      <th>5151</th>\n",
       "      <td>Everlasting Summer DLC One pioneer's story</td>\n",
       "      <td>1</td>\n",
       "      <td>0.0</td>\n",
       "    </tr>\n",
       "    <tr>\n",
       "      <th>5152</th>\n",
       "      <td>Everyday Genius SquareLogic</td>\n",
       "      <td>1</td>\n",
       "      <td>12.2</td>\n",
       "    </tr>\n",
       "    <tr>\n",
       "      <th>5153</th>\n",
       "      <td>EvilQuest</td>\n",
       "      <td>1</td>\n",
       "      <td>0.0</td>\n",
       "    </tr>\n",
       "    <tr>\n",
       "      <th>5154</th>\n",
       "      <td>007 Legends</td>\n",
       "      <td>1</td>\n",
       "      <td>0.7</td>\n",
       "    </tr>\n",
       "  </tbody>\n",
       "</table>\n",
       "<p>5155 rows × 3 columns</p>\n",
       "</div>"
      ],
      "text/plain": [
       "                                            game    id       hrs\n",
       "0                                         Dota 2  4841  981684.6\n",
       "1                                Team Fortress 2  2323  173673.3\n",
       "2                                       Unturned  1563   16096.4\n",
       "3                Counter-Strike Global Offensive  1412  322771.6\n",
       "4                         Half-Life 2 Lost Coast   981     184.4\n",
       "...                                          ...   ...       ...\n",
       "5150              EverQuest Seeds of Destruction     1       0.3\n",
       "5151  Everlasting Summer DLC One pioneer's story     1       0.0\n",
       "5152                 Everyday Genius SquareLogic     1      12.2\n",
       "5153                                   EvilQuest     1       0.0\n",
       "5154                                 007 Legends     1       0.7\n",
       "\n",
       "[5155 rows x 3 columns]"
      ]
     },
     "execution_count": 39,
     "metadata": {},
     "output_type": "execute_result"
    }
   ],
   "source": [
    "# Calculate the total number of users of each game\n",
    "total_users_game = user_data.sort_values(by='id',ascending=False).reset_index()\n",
    "total_users_game"
   ]
  },
  {
   "cell_type": "code",
   "execution_count": 41,
   "metadata": {},
   "outputs": [
    {
     "data": {
      "text/html": [
       "<div>\n",
       "<style scoped>\n",
       "    .dataframe tbody tr th:only-of-type {\n",
       "        vertical-align: middle;\n",
       "    }\n",
       "\n",
       "    .dataframe tbody tr th {\n",
       "        vertical-align: top;\n",
       "    }\n",
       "\n",
       "    .dataframe thead th {\n",
       "        text-align: right;\n",
       "    }\n",
       "</style>\n",
       "<table border=\"1\" class=\"dataframe\">\n",
       "  <thead>\n",
       "    <tr style=\"text-align: right;\">\n",
       "      <th></th>\n",
       "      <th>game</th>\n",
       "      <th>id</th>\n",
       "      <th>hrs</th>\n",
       "    </tr>\n",
       "  </thead>\n",
       "  <tbody>\n",
       "    <tr>\n",
       "      <th>0</th>\n",
       "      <td>Dota 2</td>\n",
       "      <td>4841</td>\n",
       "      <td>981684.6</td>\n",
       "    </tr>\n",
       "    <tr>\n",
       "      <th>1</th>\n",
       "      <td>Counter-Strike Global Offensive</td>\n",
       "      <td>1412</td>\n",
       "      <td>322771.6</td>\n",
       "    </tr>\n",
       "    <tr>\n",
       "      <th>2</th>\n",
       "      <td>Team Fortress 2</td>\n",
       "      <td>2323</td>\n",
       "      <td>173673.3</td>\n",
       "    </tr>\n",
       "    <tr>\n",
       "      <th>3</th>\n",
       "      <td>Counter-Strike</td>\n",
       "      <td>856</td>\n",
       "      <td>134261.1</td>\n",
       "    </tr>\n",
       "    <tr>\n",
       "      <th>4</th>\n",
       "      <td>Sid Meier's Civilization V</td>\n",
       "      <td>596</td>\n",
       "      <td>99821.3</td>\n",
       "    </tr>\n",
       "    <tr>\n",
       "      <th>...</th>\n",
       "      <td>...</td>\n",
       "      <td>...</td>\n",
       "      <td>...</td>\n",
       "    </tr>\n",
       "    <tr>\n",
       "      <th>5150</th>\n",
       "      <td>Omerta - The Con Artist</td>\n",
       "      <td>6</td>\n",
       "      <td>0.0</td>\n",
       "    </tr>\n",
       "    <tr>\n",
       "      <th>5151</th>\n",
       "      <td>Omerta - Damsel in Distress</td>\n",
       "      <td>6</td>\n",
       "      <td>0.0</td>\n",
       "    </tr>\n",
       "    <tr>\n",
       "      <th>5152</th>\n",
       "      <td>Omerta - City of Gangsters The Bulgarian Colossus</td>\n",
       "      <td>8</td>\n",
       "      <td>0.0</td>\n",
       "    </tr>\n",
       "    <tr>\n",
       "      <th>5153</th>\n",
       "      <td>Beat Hazard - Shadow Operations Unit</td>\n",
       "      <td>6</td>\n",
       "      <td>0.0</td>\n",
       "    </tr>\n",
       "    <tr>\n",
       "      <th>5154</th>\n",
       "      <td>Painkiller Hell &amp; Damnation Beta</td>\n",
       "      <td>2</td>\n",
       "      <td>0.0</td>\n",
       "    </tr>\n",
       "  </tbody>\n",
       "</table>\n",
       "<p>5155 rows × 3 columns</p>\n",
       "</div>"
      ],
      "text/plain": [
       "                                                   game    id       hrs\n",
       "0                                                Dota 2  4841  981684.6\n",
       "1                       Counter-Strike Global Offensive  1412  322771.6\n",
       "2                                       Team Fortress 2  2323  173673.3\n",
       "3                                        Counter-Strike   856  134261.1\n",
       "4                            Sid Meier's Civilization V   596   99821.3\n",
       "...                                                 ...   ...       ...\n",
       "5150                            Omerta - The Con Artist     6       0.0\n",
       "5151                        Omerta - Damsel in Distress     6       0.0\n",
       "5152  Omerta - City of Gangsters The Bulgarian Colossus     8       0.0\n",
       "5153               Beat Hazard - Shadow Operations Unit     6       0.0\n",
       "5154                   Painkiller Hell & Damnation Beta     2       0.0\n",
       "\n",
       "[5155 rows x 3 columns]"
      ]
     },
     "execution_count": 41,
     "metadata": {},
     "output_type": "execute_result"
    }
   ],
   "source": [
    "# Calculate the total hours been played of each game\n",
    "total_hours_game = user_data.sort_values(by='hrs',ascending=False).reset_index()\n",
    "total_hours_game"
   ]
  },
  {
   "cell_type": "code",
   "execution_count": 40,
   "metadata": {},
   "outputs": [
    {
     "data": {
      "image/png": "[encoded data removed]",
      "text/plain": [
       "<Figure size 1440x720 with 1 Axes>"
      ]
     },
     "metadata": {
      "needs_background": "light"
     },
     "output_type": "display_data"
    }
   ],
   "source": [
    "# Plot the top 10 games with the most user\n",
    "plt.figure(figsize=(20, 10))\n",
    "sns.set(font_scale = 2)\n",
    "ax = sns.barplot(x='id', y='game', alpha=0.9, data=total_users_game[:10], dodge=False)\n",
    "ax.set(xlabel='Number of Users', ylabel='Game', title='Top 10 games with the most users')\n",
    "plt.show()"
   ]
  },
  {
   "cell_type": "code",
   "execution_count": 43,
   "metadata": {},
   "outputs": [
    {
     "data": {
      "image/png": "[encoded data removed]",
      "text/plain": [
       "<Figure size 1440x720 with 1 Axes>"
      ]
     },
     "metadata": {},
     "output_type": "display_data"
    }
   ],
   "source": [
    "# Plot the top 10 games with the most play hours\n",
    "plt.figure(figsize=(20, 10))\n",
    "sns.set(font_scale = 2)\n",
    "ax = sns.barplot(x='hrs', y='game', alpha=0.9, data=total_hours_game[:10], dodge=False)\n",
    "ax.set(xlabel='Play Hours', ylabel='Game', title='Top 10 games with the longest play hours')\n",
    "plt.show()"
   ]
  },
  {
   "cell_type": "markdown",
   "metadata": {},
   "source": [
    "For some cases there is no relation between the total number of users and the total of hours played, meaning that a high number of users does not represent an equivalent high total of hours played."
   ]
  },
  {
   "cell_type": "code",
   "execution_count": 66,
   "metadata": {},
   "outputs": [],
   "source": [
    "# Compute the total number of hours and total number of users per game.\n",
    "# Only users with 'play' set to 1 are considered.\n",
    "user_count = user_clean.loc[user_clean['play'] == 1].groupby('game')['id'].agg('count').sort_values(ascending=False)\n",
    "hours_played = user_clean.loc[user_clean['play'] == 1].groupby('game')['hrs'].agg(np.sum).sort_values(ascending=False)"
   ]
  },
  {
   "cell_type": "code",
   "execution_count": 67,
   "metadata": {},
   "outputs": [],
   "source": [
    "# Create dataframe of top 20 most played games with total hours and total users per game.\n",
    "df_top_hours_played = pd.DataFrame({'game_name': hours_played.index,\n",
    "                                    'hours_played': hours_played.values,\n",
    "                                    'user_count': user_count.values})[0:20]"
   ]
  },
  {
   "cell_type": "code",
   "execution_count": 68,
   "metadata": {},
   "outputs": [],
   "source": [
    "# Mask criteria for box plot.\n",
    "mask_criteria = user_clean['game'].isin(df_top_hours_played['game_name'])\n",
    "df_box_plot = user_clean.loc[mask_criteria].loc[user_clean['play'] == 1][['hrs', 'game']]"
   ]
  },
  {
   "cell_type": "code",
   "execution_count": 78,
   "metadata": {},
   "outputs": [
    {
     "data": {
      "image/png": "[encoded data removed]",
      "text/plain": [
       "<Figure size 864x612 with 1 Axes>"
      ]
     },
     "metadata": {},
     "output_type": "display_data"
    }
   ],
   "source": [
    "# Create box-plot.\n",
    "fig_h = 1 + 0.25 * max(1, 30)\n",
    "fig, ax = plt.subplots(figsize=(12, fig_h))\n",
    "sns.set_style(\"whitegrid\")\n",
    "ax = sns.boxplot(x=col_hour, y=col_game, data=df_box_plot,\n",
    "                order=df_top_hours_played['game_name'].to_list(),\n",
    "                palette=\"colorblind\",\n",
    "                saturation=1,\n",
    "                linewidth=1,\n",
    "                fliersize=2)\n",
    "plt.title('Box Plot: Top most 20 played games [hrs]')\n",
    "plt.xlabel('Hours')\n",
    "plt.ylabel('Game')\n",
    "plt.show()"
   ]
  },
  {
   "cell_type": "markdown",
   "metadata": {},
   "source": [
    "75% of data points for each game is in the range of hundreds of hours, with several games having very large outliers. "
   ]
  },
  {
   "cell_type": "code",
   "execution_count": 79,
   "metadata": {},
   "outputs": [
    {
     "data": {
      "text/html": [
       "<div>\n",
       "<style scoped>\n",
       "    .dataframe tbody tr th:only-of-type {\n",
       "        vertical-align: middle;\n",
       "    }\n",
       "\n",
       "    .dataframe tbody tr th {\n",
       "        vertical-align: top;\n",
       "    }\n",
       "\n",
       "    .dataframe thead th {\n",
       "        text-align: right;\n",
       "    }\n",
       "</style>\n",
       "<table border=\"1\" class=\"dataframe\">\n",
       "  <thead>\n",
       "    <tr style=\"text-align: right;\">\n",
       "      <th></th>\n",
       "      <th>id</th>\n",
       "      <th>game</th>\n",
       "      <th>hrs</th>\n",
       "    </tr>\n",
       "  </thead>\n",
       "  <tbody>\n",
       "    <tr>\n",
       "      <th>0</th>\n",
       "      <td>5250</td>\n",
       "      <td>Alien Swarm</td>\n",
       "      <td>4.9</td>\n",
       "    </tr>\n",
       "    <tr>\n",
       "      <th>1</th>\n",
       "      <td>5250</td>\n",
       "      <td>Cities Skylines</td>\n",
       "      <td>144.0</td>\n",
       "    </tr>\n",
       "    <tr>\n",
       "      <th>6</th>\n",
       "      <td>5250</td>\n",
       "      <td>Deus Ex Human Revolution</td>\n",
       "      <td>62.0</td>\n",
       "    </tr>\n",
       "    <tr>\n",
       "      <th>17</th>\n",
       "      <td>5250</td>\n",
       "      <td>Portal 2</td>\n",
       "      <td>13.6</td>\n",
       "    </tr>\n",
       "    <tr>\n",
       "      <th>21</th>\n",
       "      <td>76767</td>\n",
       "      <td>Age of Empires II HD Edition</td>\n",
       "      <td>13.1</td>\n",
       "    </tr>\n",
       "  </tbody>\n",
       "</table>\n",
       "</div>"
      ],
      "text/plain": [
       "       id                          game    hrs\n",
       "0    5250                   Alien Swarm    4.9\n",
       "1    5250               Cities Skylines  144.0\n",
       "6    5250      Deus Ex Human Revolution   62.0\n",
       "17   5250                      Portal 2   13.6\n",
       "21  76767  Age of Empires II HD Edition   13.1"
      ]
     },
     "execution_count": 79,
     "metadata": {},
     "output_type": "execute_result"
    }
   ],
   "source": [
    "# Remove users with less 2 hours play time, because the Steam allows user to refund the game within 2 hours\n",
    "user_final = user_clean[user_clean['hrs'] > 2].drop(['purchase', 'play'], axis=1)\n",
    "user_final.head()"
   ]
  },
  {
   "cell_type": "code",
   "execution_count": null,
   "metadata": {},
   "outputs": [],
   "source": [
    "# Save the final dataframe to file for future use\n",
    "user_final.to_csv(r'/final_data/user_final.csv', index=None)"
   ]
  },
  {
   "cell_type": "markdown",
   "metadata": {},
   "source": [
    "## Steam Game Dataset"
   ]
  },
  {
   "cell_type": "markdown",
   "metadata": {},
   "source": [
    "#### Step 1: Read in the data and take a look at the dataset"
   ]
  },
  {
   "cell_type": "code",
   "execution_count": 3,
   "metadata": {},
   "outputs": [
    {
     "name": "stdout",
     "output_type": "stream",
     "text": [
      "<class 'pandas.core.frame.DataFrame'>\n",
      "RangeIndex: 27075 entries, 0 to 27074\n",
      "Data columns (total 18 columns):\n",
      " #   Column            Non-Null Count  Dtype  \n",
      "---  ------            --------------  -----  \n",
      " 0   appid             27075 non-null  int64  \n",
      " 1   name              27075 non-null  object \n",
      " 2   release_date      27075 non-null  object \n",
      " 3   english           27075 non-null  int64  \n",
      " 4   developer         27075 non-null  object \n",
      " 5   publisher         27075 non-null  object \n",
      " 6   platforms         27075 non-null  object \n",
      " 7   required_age      27075 non-null  int64  \n",
      " 8   categories        27075 non-null  object \n",
      " 9   genres            27075 non-null  object \n",
      " 10  steamspy_tags     27075 non-null  object \n",
      " 11  achievements      27075 non-null  int64  \n",
      " 12  positive_ratings  27075 non-null  int64  \n",
      " 13  negative_ratings  27075 non-null  int64  \n",
      " 14  average_playtime  27075 non-null  int64  \n",
      " 15  median_playtime   27075 non-null  int64  \n",
      " 16  owners            27075 non-null  object \n",
      " 17  price             27075 non-null  float64\n",
      "dtypes: float64(1), int64(8), object(9)\n",
      "memory usage: 3.7+ MB\n"
     ]
    }
   ],
   "source": [
    "df2 = pd.read_csv('data/Steam.csv')\n",
    "df2.info()"
   ]
  },
  {
   "cell_type": "code",
   "execution_count": 81,
   "metadata": {},
   "outputs": [
    {
     "data": {
      "text/html": [
       "<div>\n",
       "<style scoped>\n",
       "    .dataframe tbody tr th:only-of-type {\n",
       "        vertical-align: middle;\n",
       "    }\n",
       "\n",
       "    .dataframe tbody tr th {\n",
       "        vertical-align: top;\n",
       "    }\n",
       "\n",
       "    .dataframe thead th {\n",
       "        text-align: right;\n",
       "    }\n",
       "</style>\n",
       "<table border=\"1\" class=\"dataframe\">\n",
       "  <thead>\n",
       "    <tr style=\"text-align: right;\">\n",
       "      <th></th>\n",
       "      <th>appid</th>\n",
       "      <th>name</th>\n",
       "      <th>release_date</th>\n",
       "      <th>english</th>\n",
       "      <th>developer</th>\n",
       "      <th>publisher</th>\n",
       "      <th>platforms</th>\n",
       "      <th>required_age</th>\n",
       "      <th>categories</th>\n",
       "      <th>genres</th>\n",
       "      <th>steamspy_tags</th>\n",
       "      <th>achievements</th>\n",
       "      <th>positive_ratings</th>\n",
       "      <th>negative_ratings</th>\n",
       "      <th>average_playtime</th>\n",
       "      <th>median_playtime</th>\n",
       "      <th>owners</th>\n",
       "      <th>price</th>\n",
       "    </tr>\n",
       "  </thead>\n",
       "  <tbody>\n",
       "    <tr>\n",
       "      <th>0</th>\n",
       "      <td>10</td>\n",
       "      <td>Counter-Strike</td>\n",
       "      <td>2000-11-01</td>\n",
       "      <td>1</td>\n",
       "      <td>Valve</td>\n",
       "      <td>Valve</td>\n",
       "      <td>windows;mac;linux</td>\n",
       "      <td>0</td>\n",
       "      <td>Multi-player;Online Multi-Player;Local Multi-P...</td>\n",
       "      <td>Action</td>\n",
       "      <td>Action;FPS;Multiplayer</td>\n",
       "      <td>0</td>\n",
       "      <td>124534</td>\n",
       "      <td>3339</td>\n",
       "      <td>17612</td>\n",
       "      <td>317</td>\n",
       "      <td>10000000-20000000</td>\n",
       "      <td>7.19</td>\n",
       "    </tr>\n",
       "    <tr>\n",
       "      <th>1</th>\n",
       "      <td>20</td>\n",
       "      <td>Team Fortress Classic</td>\n",
       "      <td>1999-04-01</td>\n",
       "      <td>1</td>\n",
       "      <td>Valve</td>\n",
       "      <td>Valve</td>\n",
       "      <td>windows;mac;linux</td>\n",
       "      <td>0</td>\n",
       "      <td>Multi-player;Online Multi-Player;Local Multi-P...</td>\n",
       "      <td>Action</td>\n",
       "      <td>Action;FPS;Multiplayer</td>\n",
       "      <td>0</td>\n",
       "      <td>3318</td>\n",
       "      <td>633</td>\n",
       "      <td>277</td>\n",
       "      <td>62</td>\n",
       "      <td>5000000-10000000</td>\n",
       "      <td>3.99</td>\n",
       "    </tr>\n",
       "    <tr>\n",
       "      <th>2</th>\n",
       "      <td>30</td>\n",
       "      <td>Day of Defeat</td>\n",
       "      <td>2003-05-01</td>\n",
       "      <td>1</td>\n",
       "      <td>Valve</td>\n",
       "      <td>Valve</td>\n",
       "      <td>windows;mac;linux</td>\n",
       "      <td>0</td>\n",
       "      <td>Multi-player;Valve Anti-Cheat enabled</td>\n",
       "      <td>Action</td>\n",
       "      <td>FPS;World War II;Multiplayer</td>\n",
       "      <td>0</td>\n",
       "      <td>3416</td>\n",
       "      <td>398</td>\n",
       "      <td>187</td>\n",
       "      <td>34</td>\n",
       "      <td>5000000-10000000</td>\n",
       "      <td>3.99</td>\n",
       "    </tr>\n",
       "    <tr>\n",
       "      <th>3</th>\n",
       "      <td>40</td>\n",
       "      <td>Deathmatch Classic</td>\n",
       "      <td>2001-06-01</td>\n",
       "      <td>1</td>\n",
       "      <td>Valve</td>\n",
       "      <td>Valve</td>\n",
       "      <td>windows;mac;linux</td>\n",
       "      <td>0</td>\n",
       "      <td>Multi-player;Online Multi-Player;Local Multi-P...</td>\n",
       "      <td>Action</td>\n",
       "      <td>Action;FPS;Multiplayer</td>\n",
       "      <td>0</td>\n",
       "      <td>1273</td>\n",
       "      <td>267</td>\n",
       "      <td>258</td>\n",
       "      <td>184</td>\n",
       "      <td>5000000-10000000</td>\n",
       "      <td>3.99</td>\n",
       "    </tr>\n",
       "    <tr>\n",
       "      <th>4</th>\n",
       "      <td>50</td>\n",
       "      <td>Half-Life: Opposing Force</td>\n",
       "      <td>1999-11-01</td>\n",
       "      <td>1</td>\n",
       "      <td>Gearbox Software</td>\n",
       "      <td>Valve</td>\n",
       "      <td>windows;mac;linux</td>\n",
       "      <td>0</td>\n",
       "      <td>Single-player;Multi-player;Valve Anti-Cheat en...</td>\n",
       "      <td>Action</td>\n",
       "      <td>FPS;Action;Sci-fi</td>\n",
       "      <td>0</td>\n",
       "      <td>5250</td>\n",
       "      <td>288</td>\n",
       "      <td>624</td>\n",
       "      <td>415</td>\n",
       "      <td>5000000-10000000</td>\n",
       "      <td>3.99</td>\n",
       "    </tr>\n",
       "  </tbody>\n",
       "</table>\n",
       "</div>"
      ],
      "text/plain": [
       "   appid                       name release_date  english         developer  \\\n",
       "0     10             Counter-Strike   2000-11-01        1             Valve   \n",
       "1     20      Team Fortress Classic   1999-04-01        1             Valve   \n",
       "2     30              Day of Defeat   2003-05-01        1             Valve   \n",
       "3     40         Deathmatch Classic   2001-06-01        1             Valve   \n",
       "4     50  Half-Life: Opposing Force   1999-11-01        1  Gearbox Software   \n",
       "\n",
       "  publisher          platforms  required_age  \\\n",
       "0     Valve  windows;mac;linux             0   \n",
       "1     Valve  windows;mac;linux             0   \n",
       "2     Valve  windows;mac;linux             0   \n",
       "3     Valve  windows;mac;linux             0   \n",
       "4     Valve  windows;mac;linux             0   \n",
       "\n",
       "                                          categories  genres  \\\n",
       "0  Multi-player;Online Multi-Player;Local Multi-P...  Action   \n",
       "1  Multi-player;Online Multi-Player;Local Multi-P...  Action   \n",
       "2              Multi-player;Valve Anti-Cheat enabled  Action   \n",
       "3  Multi-player;Online Multi-Player;Local Multi-P...  Action   \n",
       "4  Single-player;Multi-player;Valve Anti-Cheat en...  Action   \n",
       "\n",
       "                  steamspy_tags  achievements  positive_ratings  \\\n",
       "0        Action;FPS;Multiplayer             0            124534   \n",
       "1        Action;FPS;Multiplayer             0              3318   \n",
       "2  FPS;World War II;Multiplayer             0              3416   \n",
       "3        Action;FPS;Multiplayer             0              1273   \n",
       "4             FPS;Action;Sci-fi             0              5250   \n",
       "\n",
       "   negative_ratings  average_playtime  median_playtime             owners  \\\n",
       "0              3339             17612              317  10000000-20000000   \n",
       "1               633               277               62   5000000-10000000   \n",
       "2               398               187               34   5000000-10000000   \n",
       "3               267               258              184   5000000-10000000   \n",
       "4               288               624              415   5000000-10000000   \n",
       "\n",
       "   price  \n",
       "0   7.19  \n",
       "1   3.99  \n",
       "2   3.99  \n",
       "3   3.99  \n",
       "4   3.99  "
      ]
     },
     "execution_count": 81,
     "metadata": {},
     "output_type": "execute_result"
    }
   ],
   "source": [
    "df2.head()"
   ]
  },
  {
   "cell_type": "code",
   "execution_count": 4,
   "metadata": {},
   "outputs": [
    {
     "data": {
      "text/plain": [
       "Index(['appid', 'name', 'release_date', 'english', 'developer', 'publisher',\n",
       "       'platforms', 'required_age', 'categories', 'genres', 'steamspy_tags',\n",
       "       'achievements', 'positive_ratings', 'negative_ratings',\n",
       "       'average_playtime', 'median_playtime', 'owners', 'price'],\n",
       "      dtype='object')"
      ]
     },
     "execution_count": 4,
     "metadata": {},
     "output_type": "execute_result"
    }
   ],
   "source": [
    "df2.columns"
   ]
  },
  {
   "cell_type": "markdown",
   "metadata": {},
   "source": [
    "There are 27075 games with 17 features in the oringinal dataset"
   ]
  },
  {
   "cell_type": "markdown",
   "metadata": {},
   "source": [
    "#### Step 2: Create the functions to clean the dataset"
   ]
  },
  {
   "cell_type": "code",
   "execution_count": 82,
   "metadata": {},
   "outputs": [],
   "source": [
    "def get_unique(series):\n",
    "    return set(list(itertools.chain(*series.apply(lambda x: [c for c in x.split(';')]))))"
   ]
  },
  {
   "cell_type": "code",
   "execution_count": 84,
   "metadata": {},
   "outputs": [],
   "source": [
    "def process_cat_gen_tag(df):\n",
    "    cat_cols = get_unique(df['categories'])\n",
    "    \n",
    "   \n",
    "    cat_cols = [\n",
    "        'Local Multi-Player',\n",
    "        'MMO',\n",
    "        'Mods',\n",
    "        'Multi-player',\n",
    "        'Online Co-op',\n",
    "        'Online Multi-Player',\n",
    "        'Single-player'\n",
    "    ]\n",
    "    \n",
    "    for col in sorted(cat_cols):\n",
    "        col_name = re.sub(r'[\\s\\-\\/]', '_', col.lower())\n",
    "        col_name = re.sub(r'[()]', '', col_name)\n",
    "        \n",
    "        df[col_name] = df['categories'].apply(lambda x: 1 if col in x.split(';') else 0)\n",
    "        \n",
    "    gen_cols = get_unique(df['genres'])\n",
    "    \n",
    "    \n",
    "    gen_cols = [\n",
    "        'Accounting',\n",
    "        'Action',\n",
    "        'Adventure',\n",
    "        'Animation & Modeling',\n",
    "        'Audio Production',\n",
    "        'Casual',\n",
    "        'Design & Illustration',\n",
    "        'Documentary',\n",
    "        'Early Access',\n",
    "        'Education',\n",
    "        'Free to Play',\n",
    "        'Game Development',\n",
    "        'Gore',\n",
    "        'Indie',\n",
    "        'Massively Multiplayer',\n",
    "        'Nudity',\n",
    "        'Photo Editing',\n",
    "        'RPG',\n",
    "        'Racing',\n",
    "        'Sexual Content',\n",
    "        'Simulation',\n",
    "        'Software Training',\n",
    "        'Sports',\n",
    "        'Strategy'\n",
    "        'Tutorial',\n",
    "        'Utilities',\n",
    "        'Video Production',\n",
    "        'Violent',\n",
    "        'Web Publishing'\n",
    "    ]\n",
    "    \n",
    "    gen_col_names = []\n",
    "    \n",
    "    for col in sorted(gen_cols):\n",
    "        col_name = col.lower().replace('&', 'and').replace(' ', '_')\n",
    "        gen_col_names.append(col_name)\n",
    "        \n",
    "        df[col_name] = df['genres'].apply(lambda x: 1 if col in x.split(';') else 0)\n",
    "    \n",
    "    gen_sums = df[gen_col_names].sum(axis=1)\n",
    "    df = df[gen_sums > 0]\n",
    "        \n",
    "    tag_cols = get_unique(df['steamspy_tags'])\n",
    "    \n",
    "    df = df.drop(['categories', 'genres', 'steamspy_tags'], axis=1)\n",
    "    \n",
    "    return df"
   ]
  },
  {
   "cell_type": "code",
   "execution_count": 85,
   "metadata": {},
   "outputs": [],
   "source": [
    "def process_revenue(df):\n",
    "    df['est_revenue'] = df['owners'] * df['price']\n",
    "    return df"
   ]
  },
  {
   "cell_type": "code",
   "execution_count": 86,
   "metadata": {},
   "outputs": [],
   "source": [
    "def process_price(df):\n",
    "    cut_points = [-1, 0, 4, 10, 30, 50, 1000]\n",
    "    label_names = ['free', 'very cheap', 'cheap', 'moderate', 'expensive', 'very expensive']\n",
    "    \n",
    "    df['price_categories'] = pd.cut(df['price'], cut_points, labels=label_names)\n",
    "    \n",
    "    return df"
   ]
  },
  {
   "cell_type": "code",
   "execution_count": 98,
   "metadata": {},
   "outputs": [],
   "source": [
    "df['owners'] = df['owners'].str.split('-').apply(lambda x: (int(x[0]) + int(x[1])) / 2).astype(int)"
   ]
  },
  {
   "cell_type": "code",
   "execution_count": 99,
   "metadata": {},
   "outputs": [],
   "source": [
    "def clean(df):\n",
    "    \n",
    "    df = process_revenue(df)\n",
    "    df = process_price(df)\n",
    "    df = process_cat_gen_tag(df)\n",
    "    \n",
    "    return df"
   ]
  },
  {
   "cell_type": "code",
   "execution_count": 168,
   "metadata": {},
   "outputs": [
    {
     "name": "stdout",
     "output_type": "stream",
     "text": [
      "There are 26590 rows and 52 columns after preprocessing\n"
     ]
    }
   ],
   "source": [
    "# Preprocess the data and show the result\n",
    "game_clean = clean(df2)\n",
    "nRow, nCol = game_clean.shape\n",
    "print(f'There are {nRow} rows and {nCol} columns after preprocessing')"
   ]
  },
  {
   "cell_type": "markdown",
   "metadata": {},
   "source": [
    "#### Step 3: Exploratory Data Analysis"
   ]
  },
  {
   "cell_type": "code",
   "execution_count": 128,
   "metadata": {},
   "outputs": [
    {
     "data": {
      "image/png": "[encoded data removed]",
      "text/plain": [
       "<Figure size 720x864 with 2 Axes>"
      ]
     },
     "metadata": {
      "needs_background": "light"
     },
     "output_type": "display_data"
    }
   ],
   "source": [
    "# Shows percentage of apps in each genre\n",
    "genre_cols = df_clean.columns[-10:]\n",
    "\n",
    "total_owners_per_genre = df_clean[genre_cols].multiply(df_clean['owners'], axis='index').sum()\n",
    "average_owners_per_genre = total_owners_per_genre / df_clean[genre_cols].sum()\n",
    "\n",
    "fig, ax1 = plt.subplots(figsize=(10, 12))\n",
    "color = 'red'\n",
    "df_clean[genre_cols].mean().sort_index(ascending=False).plot.barh(ax=ax1, color=color, alpha=.5, position=.8)\n",
    "ax1.set_ylabel('genre', fontsize=15)\n",
    "ax1.set_xlabel('% of apps', fontsize=20, color=color)\n",
    "ax1.tick_params(axis='x', labelsize=15, labelcolor=color)\n",
    "\n",
    "ax2 = ax1.twiny()\n",
    "color = 'blue'\n",
    "average_owners_per_genre.sort_index(ascending=False).plot.barh(ax=ax2, color=color, alpha=.5, position=.2, label='1')\n",
    "ax2.set_xlabel('average owners per app', fontsize=20, color=color)\n",
    "ax2.tick_params(axis='x', labelsize=15, labelcolor=color)\n",
    "\n",
    "plt.show()"
   ]
  },
  {
   "cell_type": "markdown",
   "metadata": {},
   "source": [
    "## Create the first recommender(user-based) using SVD"
   ]
  },
  {
   "cell_type": "markdown",
   "metadata": {},
   "source": [
    "The data we have is implicit data. Unlike explicit data, there is no negative feedback, the dataset has only positive feedback, in this particular case is the total hours a user has played in a game, we couldn’t tell the missing value is because the customer did not like the game or just doesn’t know it.\n",
    "And the numerical value refers to a frequency which might not necessarily reflect the user’s preference. So, I choose to deduce a metric that shows customer’s confidence by using matrix factorization."
   ]
  },
  {
   "cell_type": "markdown",
   "metadata": {},
   "source": [
    "The main idea behind matrix factorization is to estimate user matrix from the original sparse matrix by minimizing the cost function that involces 2 important metrics"
   ]
  },
  {
   "cell_type": "markdown",
   "metadata": {},
   "source": [
    "Preference : Binary metric that indicates if the user has played the game"
   ]
  },
  {
   "cell_type": "markdown",
   "metadata": {},
   "source": [
    "Confidence: Metric that indicates if the user likes the game"
   ]
  },
  {
   "cell_type": "markdown",
   "metadata": {},
   "source": [
    "SVD is an algorithm that decomposes a matrix into the best lower rank approximation of the original matrix . Mathematically, it decomposes the original matrix into a two unitary matrices and a diagonal matrix, we take these matrices and keep only the top features, which we think of as the underlying tastes and preferences vectors."
   ]
  },
  {
   "cell_type": "markdown",
   "metadata": {},
   "source": [
    "#### Step 1 :Use the user dataset to create pivot table"
   ]
  },
  {
   "cell_type": "code",
   "execution_count": 135,
   "metadata": {},
   "outputs": [],
   "source": [
    "user_pivot = pd.pivot_table(user_final, values='hrs',index='id',columns='game').fillna(0)"
   ]
  },
  {
   "cell_type": "markdown",
   "metadata": {},
   "source": [
    "#### Step 2 :Demean the data, normalize by each users mean, and convert it from a dataframe to a numpy array."
   ]
  },
  {
   "cell_type": "code",
   "execution_count": 130,
   "metadata": {},
   "outputs": [],
   "source": [
    "user_hours_mean = np.mean(user_pivot, axis = 1)\n",
    "user_mask = user_pivot - user_hours_mean.values.reshape(-1, 1)"
   ]
  },
  {
   "cell_type": "markdown",
   "metadata": {},
   "source": [
    "#### Step 3 :Use SVD function from scipy"
   ]
  },
  {
   "cell_type": "code",
   "execution_count": 131,
   "metadata": {},
   "outputs": [],
   "source": [
    "from scipy.sparse.linalg import svds\n",
    "U, sigma, Vt = svds(user_mask, k = 50)"
   ]
  },
  {
   "cell_type": "code",
   "execution_count": 132,
   "metadata": {},
   "outputs": [],
   "source": [
    "sigma = np.diag(sigma)"
   ]
  },
  {
   "cell_type": "markdown",
   "metadata": {},
   "source": [
    "The function returns one user ratings matrix, shows how much user like the game, one game matrix shows how relevant each to each game, and one diagonal matrix of singular values (essentially weights)"
   ]
  },
  {
   "cell_type": "markdown",
   "metadata": {},
   "source": [
    "Then add the user means back to get the actual game ratings prediction"
   ]
  },
  {
   "cell_type": "code",
   "execution_count": 133,
   "metadata": {},
   "outputs": [],
   "source": [
    "all_user_predicted_hours = np.dot(np.dot(U, sigma), Vt) + user_hours_mean.values.reshape(-1, 1)"
   ]
  },
  {
   "cell_type": "markdown",
   "metadata": {},
   "source": [
    "#### Step 4 :Create the prediction matrix for each user"
   ]
  },
  {
   "cell_type": "code",
   "execution_count": 138,
   "metadata": {},
   "outputs": [
    {
     "data": {
      "text/html": [
       "<div>\n",
       "<style scoped>\n",
       "    .dataframe tbody tr th:only-of-type {\n",
       "        vertical-align: middle;\n",
       "    }\n",
       "\n",
       "    .dataframe tbody tr th {\n",
       "        vertical-align: top;\n",
       "    }\n",
       "\n",
       "    .dataframe thead th {\n",
       "        text-align: right;\n",
       "    }\n",
       "</style>\n",
       "<table border=\"1\" class=\"dataframe\">\n",
       "  <thead>\n",
       "    <tr style=\"text-align: right;\">\n",
       "      <th>game</th>\n",
       "      <th>1... 2... 3... KICK IT! (Drop That Beat Like an Ugly Baby)</th>\n",
       "      <th>10 Second Ninja</th>\n",
       "      <th>10,000,000</th>\n",
       "      <th>100% Orange Juice</th>\n",
       "      <th>12 Labours of Hercules</th>\n",
       "      <th>12 Labours of Hercules II The Cretan Bull</th>\n",
       "      <th>12 Labours of Hercules III Girl Power</th>\n",
       "      <th>16bit Trader</th>\n",
       "      <th>18 Wheels of Steel American Long Haul</th>\n",
       "      <th>1953 NATO vs Warsaw Pact</th>\n",
       "      <th>...</th>\n",
       "      <th>iBomber Defense</th>\n",
       "      <th>iBomber Defense Pacific</th>\n",
       "      <th>ibb &amp; obb</th>\n",
       "      <th>liteCam Game 100 FPS Game Capture</th>\n",
       "      <th>rFactor</th>\n",
       "      <th>realMyst Masterpiece Edition</th>\n",
       "      <th>resident evil 4 / biohazard 4</th>\n",
       "      <th>sZone-Online</th>\n",
       "      <th>theHunter</th>\n",
       "      <th>theHunter Primal</th>\n",
       "    </tr>\n",
       "    <tr>\n",
       "      <th>id</th>\n",
       "      <th></th>\n",
       "      <th></th>\n",
       "      <th></th>\n",
       "      <th></th>\n",
       "      <th></th>\n",
       "      <th></th>\n",
       "      <th></th>\n",
       "      <th></th>\n",
       "      <th></th>\n",
       "      <th></th>\n",
       "      <th></th>\n",
       "      <th></th>\n",
       "      <th></th>\n",
       "      <th></th>\n",
       "      <th></th>\n",
       "      <th></th>\n",
       "      <th></th>\n",
       "      <th></th>\n",
       "      <th></th>\n",
       "      <th></th>\n",
       "      <th></th>\n",
       "    </tr>\n",
       "  </thead>\n",
       "  <tbody>\n",
       "    <tr>\n",
       "      <th>5250</th>\n",
       "      <td>0.071210</td>\n",
       "      <td>0.071261</td>\n",
       "      <td>0.071064</td>\n",
       "      <td>0.071409</td>\n",
       "      <td>0.070615</td>\n",
       "      <td>0.070563</td>\n",
       "      <td>0.070720</td>\n",
       "      <td>0.070916</td>\n",
       "      <td>0.070826</td>\n",
       "      <td>0.070942</td>\n",
       "      <td>...</td>\n",
       "      <td>0.071162</td>\n",
       "      <td>0.071000</td>\n",
       "      <td>0.070977</td>\n",
       "      <td>0.070357</td>\n",
       "      <td>0.070817</td>\n",
       "      <td>0.072446</td>\n",
       "      <td>0.072934</td>\n",
       "      <td>0.071376</td>\n",
       "      <td>0.076876</td>\n",
       "      <td>0.072496</td>\n",
       "    </tr>\n",
       "    <tr>\n",
       "      <th>76767</th>\n",
       "      <td>0.186387</td>\n",
       "      <td>0.165439</td>\n",
       "      <td>0.165620</td>\n",
       "      <td>0.166378</td>\n",
       "      <td>0.177950</td>\n",
       "      <td>0.165719</td>\n",
       "      <td>0.165336</td>\n",
       "      <td>0.166514</td>\n",
       "      <td>0.160727</td>\n",
       "      <td>0.167200</td>\n",
       "      <td>...</td>\n",
       "      <td>0.166344</td>\n",
       "      <td>0.169148</td>\n",
       "      <td>0.166251</td>\n",
       "      <td>0.144233</td>\n",
       "      <td>0.168299</td>\n",
       "      <td>0.160710</td>\n",
       "      <td>0.160990</td>\n",
       "      <td>0.167991</td>\n",
       "      <td>0.121617</td>\n",
       "      <td>0.171203</td>\n",
       "    </tr>\n",
       "    <tr>\n",
       "      <th>86540</th>\n",
       "      <td>-0.008478</td>\n",
       "      <td>-0.007903</td>\n",
       "      <td>-0.002049</td>\n",
       "      <td>-0.005893</td>\n",
       "      <td>-0.001787</td>\n",
       "      <td>-0.000003</td>\n",
       "      <td>-0.002808</td>\n",
       "      <td>-0.007624</td>\n",
       "      <td>-0.002687</td>\n",
       "      <td>-0.007501</td>\n",
       "      <td>...</td>\n",
       "      <td>-0.005831</td>\n",
       "      <td>-0.007367</td>\n",
       "      <td>-0.004157</td>\n",
       "      <td>0.047154</td>\n",
       "      <td>-0.007046</td>\n",
       "      <td>-0.007612</td>\n",
       "      <td>0.021000</td>\n",
       "      <td>-0.005987</td>\n",
       "      <td>-0.035743</td>\n",
       "      <td>-0.015302</td>\n",
       "    </tr>\n",
       "    <tr>\n",
       "      <th>229911</th>\n",
       "      <td>0.007043</td>\n",
       "      <td>-0.005780</td>\n",
       "      <td>-0.005308</td>\n",
       "      <td>-0.003549</td>\n",
       "      <td>-0.008947</td>\n",
       "      <td>-0.006982</td>\n",
       "      <td>-0.006833</td>\n",
       "      <td>-0.004522</td>\n",
       "      <td>-0.008981</td>\n",
       "      <td>-0.004358</td>\n",
       "      <td>...</td>\n",
       "      <td>-0.005578</td>\n",
       "      <td>-0.002417</td>\n",
       "      <td>-0.004682</td>\n",
       "      <td>-0.020503</td>\n",
       "      <td>-0.004381</td>\n",
       "      <td>-0.008262</td>\n",
       "      <td>-0.012721</td>\n",
       "      <td>-0.004632</td>\n",
       "      <td>-0.028915</td>\n",
       "      <td>-0.006695</td>\n",
       "    </tr>\n",
       "    <tr>\n",
       "      <th>298950</th>\n",
       "      <td>0.215880</td>\n",
       "      <td>0.155123</td>\n",
       "      <td>0.156311</td>\n",
       "      <td>0.148271</td>\n",
       "      <td>0.183320</td>\n",
       "      <td>0.161717</td>\n",
       "      <td>0.176464</td>\n",
       "      <td>0.158815</td>\n",
       "      <td>0.181314</td>\n",
       "      <td>0.159763</td>\n",
       "      <td>...</td>\n",
       "      <td>0.155988</td>\n",
       "      <td>0.147474</td>\n",
       "      <td>0.176198</td>\n",
       "      <td>0.177606</td>\n",
       "      <td>0.147315</td>\n",
       "      <td>0.184700</td>\n",
       "      <td>0.304294</td>\n",
       "      <td>0.170847</td>\n",
       "      <td>0.713382</td>\n",
       "      <td>0.178705</td>\n",
       "    </tr>\n",
       "  </tbody>\n",
       "</table>\n",
       "<p>5 rows × 2782 columns</p>\n",
       "</div>"
      ],
      "text/plain": [
       "game    1... 2... 3... KICK IT! (Drop That Beat Like an Ugly Baby)  \\\n",
       "id                                                                   \n",
       "5250                                             0.071210            \n",
       "76767                                            0.186387            \n",
       "86540                                           -0.008478            \n",
       "229911                                           0.007043            \n",
       "298950                                           0.215880            \n",
       "\n",
       "game    10 Second Ninja  10,000,000  100% Orange Juice  \\\n",
       "id                                                       \n",
       "5250           0.071261    0.071064           0.071409   \n",
       "76767          0.165439    0.165620           0.166378   \n",
       "86540         -0.007903   -0.002049          -0.005893   \n",
       "229911        -0.005780   -0.005308          -0.003549   \n",
       "298950         0.155123    0.156311           0.148271   \n",
       "\n",
       "game    12 Labours of Hercules  12 Labours of Hercules II The Cretan Bull  \\\n",
       "id                                                                          \n",
       "5250                  0.070615                                   0.070563   \n",
       "76767                 0.177950                                   0.165719   \n",
       "86540                -0.001787                                  -0.000003   \n",
       "229911               -0.008947                                  -0.006982   \n",
       "298950                0.183320                                   0.161717   \n",
       "\n",
       "game    12 Labours of Hercules III Girl Power  16bit Trader  \\\n",
       "id                                                            \n",
       "5250                                 0.070720      0.070916   \n",
       "76767                                0.165336      0.166514   \n",
       "86540                               -0.002808     -0.007624   \n",
       "229911                              -0.006833     -0.004522   \n",
       "298950                               0.176464      0.158815   \n",
       "\n",
       "game    18 Wheels of Steel American Long Haul  1953 NATO vs Warsaw Pact  ...  \\\n",
       "id                                                                       ...   \n",
       "5250                                 0.070826                  0.070942  ...   \n",
       "76767                                0.160727                  0.167200  ...   \n",
       "86540                               -0.002687                 -0.007501  ...   \n",
       "229911                              -0.008981                 -0.004358  ...   \n",
       "298950                               0.181314                  0.159763  ...   \n",
       "\n",
       "game    iBomber Defense  iBomber Defense Pacific  ibb & obb  \\\n",
       "id                                                            \n",
       "5250           0.071162                 0.071000   0.070977   \n",
       "76767          0.166344                 0.169148   0.166251   \n",
       "86540         -0.005831                -0.007367  -0.004157   \n",
       "229911        -0.005578                -0.002417  -0.004682   \n",
       "298950         0.155988                 0.147474   0.176198   \n",
       "\n",
       "game    liteCam Game 100 FPS Game Capture   rFactor  \\\n",
       "id                                                    \n",
       "5250                             0.070357  0.070817   \n",
       "76767                            0.144233  0.168299   \n",
       "86540                            0.047154 -0.007046   \n",
       "229911                          -0.020503 -0.004381   \n",
       "298950                           0.177606  0.147315   \n",
       "\n",
       "game    realMyst Masterpiece Edition  resident evil 4 / biohazard 4  \\\n",
       "id                                                                    \n",
       "5250                        0.072446                       0.072934   \n",
       "76767                       0.160710                       0.160990   \n",
       "86540                      -0.007612                       0.021000   \n",
       "229911                     -0.008262                      -0.012721   \n",
       "298950                      0.184700                       0.304294   \n",
       "\n",
       "game    sZone-Online  theHunter  theHunter Primal  \n",
       "id                                                 \n",
       "5250        0.071376   0.076876          0.072496  \n",
       "76767       0.167991   0.121617          0.171203  \n",
       "86540      -0.005987  -0.035743         -0.015302  \n",
       "229911     -0.004632  -0.028915         -0.006695  \n",
       "298950      0.170847   0.713382          0.178705  \n",
       "\n",
       "[5 rows x 2782 columns]"
      ]
     },
     "execution_count": 138,
     "metadata": {},
     "output_type": "execute_result"
    }
   ],
   "source": [
    "preds_df = pd.DataFrame(all_user_predicted_hours, columns = user_pivot.columns, index = user_pivot.index)\n",
    "preds_df.head()"
   ]
  },
  {
   "cell_type": "code",
   "execution_count": 19,
   "metadata": {},
   "outputs": [],
   "source": [
    "# Save the final dataframe to file for future use\n",
    "preds_df.to_csv(r'/final_data/preds_df.csv', index=None)"
   ]
  },
  {
   "cell_type": "code",
   "execution_count": 140,
   "metadata": {},
   "outputs": [],
   "source": [
    "# Select game genre to compare results\n",
    "user_game = df2[['name', 'genres']]"
   ]
  },
  {
   "cell_type": "code",
   "execution_count": 144,
   "metadata": {},
   "outputs": [
    {
     "data": {
      "text/plain": [
       "game\n",
       "The Elder Scrolls V Skyrim             112.235884\n",
       "Left 4 Dead 2                           16.284792\n",
       "Fallout New Vegas                        5.737309\n",
       "Total War ROME II - Emperor Edition      5.156273\n",
       "Fallout 4                                4.013135\n",
       "Star Trek Online                         2.733385\n",
       "DC Universe Online                       2.440294\n",
       "Far Cry 3                                2.374429\n",
       "Left 4 Dead                              2.269500\n",
       "Saints Row The Third                     2.145683\n",
       "Name: 86540, dtype: float64"
      ]
     },
     "execution_count": 144,
     "metadata": {},
     "output_type": "execute_result"
    }
   ],
   "source": [
    "# Check the prediction metrix with a random user\n",
    "sorted_user_predictions = preds_df.loc[86540].sort_values(ascending=False)\n",
    "sorted_user_predictions.head(10)"
   ]
  },
  {
   "cell_type": "markdown",
   "metadata": {},
   "source": [
    "#### Step 5 :Make the function to recommend games to user"
   ]
  },
  {
   "cell_type": "code",
   "execution_count": 145,
   "metadata": {},
   "outputs": [],
   "source": [
    "def recommend_games(userID, num_recommendations):\n",
    "    \n",
    "    # Get and sort the user's predictions\n",
    "    user_row_number = userID\n",
    "    sorted_user_predictions = preds_df.loc[user_row_number].sort_values(ascending=False)\n",
    "    \n",
    "    # Get the user's data and merge in the game information.\n",
    "    user_info = user_final[user_final.id == (userID)]\n",
    "    user_full = (user_info.merge(user_game, how = 'left', left_on = 'game', right_on = 'name').\n",
    "                     sort_values(['hrs'], ascending=False))\n",
    "\n",
    "    print ('User {0} has already played {1} games.'.format(userID, user_full.shape[0]))\n",
    "    print ('Recommending highest {0} predicted play hours user have not played yet.'\n",
    "           .format(num_recommendations))\n",
    "    \n",
    "    # Recommend the highest predicted rating games that the user hasn't seen yet.\n",
    "    recommendations = (user_game[~user_game['name'].isin(user_full['game'])].\n",
    "         merge(pd.DataFrame(sorted_user_predictions).reset_index(), how = 'left',\n",
    "               left_on = 'name',\n",
    "               right_on = 'game').\n",
    "         rename(columns = {user_row_number: 'Predictions'}).\n",
    "         sort_values('Predictions', ascending = False).iloc[:num_recommendations, :-2])\n",
    "\n",
    "    return recommendations"
   ]
  },
  {
   "cell_type": "code",
   "execution_count": 146,
   "metadata": {},
   "outputs": [
    {
     "name": "stdout",
     "output_type": "stream",
     "text": [
      "User 76767 has already played 16 games.\n",
      "Recommending highest 5 predicted play hours user have not played yet.\n"
     ]
    },
    {
     "data": {
      "text/html": [
       "<div>\n",
       "<style scoped>\n",
       "    .dataframe tbody tr th:only-of-type {\n",
       "        vertical-align: middle;\n",
       "    }\n",
       "\n",
       "    .dataframe tbody tr th {\n",
       "        vertical-align: top;\n",
       "    }\n",
       "\n",
       "    .dataframe thead th {\n",
       "        text-align: right;\n",
       "    }\n",
       "</style>\n",
       "<table border=\"1\" class=\"dataframe\">\n",
       "  <thead>\n",
       "    <tr style=\"text-align: right;\">\n",
       "      <th></th>\n",
       "      <th>name</th>\n",
       "      <th>genres</th>\n",
       "    </tr>\n",
       "  </thead>\n",
       "  <tbody>\n",
       "    <tr>\n",
       "      <th>1223</th>\n",
       "      <td>Crusader Kings II</td>\n",
       "      <td>RPG;Simulation;Strategy</td>\n",
       "    </tr>\n",
       "    <tr>\n",
       "      <th>1770</th>\n",
       "      <td>Path of Exile</td>\n",
       "      <td>Action;Adventure;Free to Play;Indie;Massively ...</td>\n",
       "    </tr>\n",
       "    <tr>\n",
       "      <th>5223</th>\n",
       "      <td>Elite Dangerous</td>\n",
       "      <td>Action;Adventure;Massively Multiplayer;RPG;Sim...</td>\n",
       "    </tr>\n",
       "    <tr>\n",
       "      <th>1465</th>\n",
       "      <td>PAYDAY 2</td>\n",
       "      <td>Action;RPG</td>\n",
       "    </tr>\n",
       "    <tr>\n",
       "      <th>2475</th>\n",
       "      <td>Grand Theft Auto V</td>\n",
       "      <td>Action;Adventure</td>\n",
       "    </tr>\n",
       "  </tbody>\n",
       "</table>\n",
       "</div>"
      ],
      "text/plain": [
       "                    name                                             genres\n",
       "1223   Crusader Kings II                            RPG;Simulation;Strategy\n",
       "1770       Path of Exile  Action;Adventure;Free to Play;Indie;Massively ...\n",
       "5223     Elite Dangerous  Action;Adventure;Massively Multiplayer;RPG;Sim...\n",
       "1465            PAYDAY 2                                         Action;RPG\n",
       "2475  Grand Theft Auto V                                   Action;Adventure"
      ]
     },
     "execution_count": 146,
     "metadata": {},
     "output_type": "execute_result"
    }
   ],
   "source": [
    "# Test the function\n",
    "recommend_games(76767, 5)"
   ]
  },
  {
   "cell_type": "markdown",
   "metadata": {},
   "source": [
    "## Create the second recommender(item-based) using KNN"
   ]
  },
  {
   "cell_type": "markdown",
   "metadata": {},
   "source": [
    "In item-based collaborative filtering, KNN will use a pre-defined distance metric to find clusters of similar items based on users' ratings, and make recommendations using the distance metric in item ratings of top-k nearest neighbors"
   ]
  },
  {
   "cell_type": "markdown",
   "metadata": {},
   "source": [
    "#### Step 1 :Use the user dataset to create pivot table"
   ]
  },
  {
   "cell_type": "code",
   "execution_count": 149,
   "metadata": {},
   "outputs": [],
   "source": [
    "game_pivot = pd.pivot_table(user_final, values='hrs',index='game',columns='id').fillna(0)"
   ]
  },
  {
   "cell_type": "markdown",
   "metadata": {},
   "source": [
    "#### Step 2 :Transform the values of the dataframe into a scipy sparse matrix for more efficient calculations."
   ]
  },
  {
   "cell_type": "code",
   "execution_count": 150,
   "metadata": {},
   "outputs": [],
   "source": [
    "from scipy.sparse import csr_matrix\n",
    "game_sparse = csr_matrix(game_pivot.values)"
   ]
  },
  {
   "cell_type": "markdown",
   "metadata": {},
   "source": [
    "#### Step 3 :Initialize the NearestNeighbors model and fit sparse matrix to the instance"
   ]
  },
  {
   "cell_type": "markdown",
   "metadata": {},
   "source": [
    "By specifying the metric = cosine, the model will measure similarity bectween artist vectors by using cosine similarity."
   ]
  },
  {
   "cell_type": "code",
   "execution_count": 151,
   "metadata": {},
   "outputs": [
    {
     "data": {
      "text/plain": [
       "NearestNeighbors(algorithm='brute', leaf_size=30, metric='cosine',\n",
       "                 metric_params=None, n_jobs=None, n_neighbors=5, p=2,\n",
       "                 radius=1.0)"
      ]
     },
     "execution_count": 151,
     "metadata": {},
     "output_type": "execute_result"
    }
   ],
   "source": [
    "from sklearn.neighbors import NearestNeighbors\n",
    "\n",
    "model_knn = NearestNeighbors(metric = 'cosine', algorithm = 'brute')\n",
    "model_knn.fit(game_sparse)"
   ]
  },
  {
   "cell_type": "code",
   "execution_count": 152,
   "metadata": {},
   "outputs": [
    {
     "name": "stdout",
     "output_type": "stream",
     "text": [
      "2772\n",
      "Recommendations for 2772:\n",
      "\n",
      "1: The Tiny Bang Story, with distance of 0.17946087038837932:\n",
      "2: SpaceChem, with distance of 0.28207378783580583:\n",
      "3: Sol Survivor, with distance of 0.45107108183441125:\n",
      "4: Sanctum, with distance of 0.5717922811485399:\n",
      "5: Gish, with distance of 0.6832589875208728:\n"
     ]
    }
   ],
   "source": [
    "# Check the KNN recommendations with random games\n",
    "game_index = np.random.choice(game_pivot.shape[0])\n",
    "print(game_index)\n",
    "distances, indices = model_knn.kneighbors(game_pivot.iloc[game_index, :].values.reshape(1, -1), n_neighbors = 6)\n",
    "\n",
    "for i in range(0, len(distances.flatten())):\n",
    "    if i == 0:\n",
    "        print ('Recommendations for {0}:\\n'.format(game_index))\n",
    "    else:\n",
    "        print ('{0}: {1}, with distance of {2}:'.format(i, game_pivot.index[indices.flatten()[i]], distances.flatten()[i]))"
   ]
  },
  {
   "cell_type": "markdown",
   "metadata": {},
   "source": [
    "#### Step 4 :Make the function to recommend games to user"
   ]
  },
  {
   "cell_type": "code",
   "execution_count": 158,
   "metadata": {},
   "outputs": [],
   "source": [
    "def similar_game_recommendations(game, k):\n",
    "    \n",
    "    distances, indices = model_knn.kneighbors(game_pivot.loc[game].values.reshape(1, -1), n_neighbors = k + 1)\n",
    "\n",
    "    for i in range(0, len(distances.flatten())):\n",
    "        if i == 0:\n",
    "            print ('Recommendations for {0}:\\n'.format(game))\n",
    "        else:\n",
    "            print ('{0}: {1}, with distance of {2}:'.format(i, game_pivot.index[indices.flatten()[i]], distances.flatten()[i]))\n",
    "\n",
    "    return None"
   ]
  },
  {
   "cell_type": "code",
   "execution_count": 161,
   "metadata": {},
   "outputs": [
    {
     "name": "stdout",
     "output_type": "stream",
     "text": [
      "Recommendations for Grand Theft Auto V:\n",
      "\n",
      "1: RIDE Game, with distance of 0.6513333257556004:\n",
      "2: Metro Conflict, with distance of 0.6619851429577632:\n",
      "3: GRID 2, with distance of 0.7621217656364961:\n",
      "4: Call of Duty 2, with distance of 0.7971407690548458:\n",
      "5: Red Orchestra 2 Heroes of Stalingrad - Single Player, with distance of 0.8228384179650927:\n"
     ]
    }
   ],
   "source": [
    "# Test the function with game 'Grand Theft Auto V'\n",
    "similar_game_recommendations('Grand Theft Auto V', 5)"
   ]
  },
  {
   "cell_type": "markdown",
   "metadata": {},
   "source": [
    "## Create the third recommender(content-based) using game description"
   ]
  },
  {
   "cell_type": "markdown",
   "metadata": {},
   "source": [
    "Considering a new user switch from another platform, there is no user information in hand.\n",
    "content based recommender gives recommendation only based on the similarity between each game"
   ]
  },
  {
   "cell_type": "markdown",
   "metadata": {},
   "source": [
    "#### Step 1: Read in the game description data"
   ]
  },
  {
   "cell_type": "code",
   "execution_count": 162,
   "metadata": {},
   "outputs": [
    {
     "name": "stdout",
     "output_type": "stream",
     "text": [
      "<class 'pandas.core.frame.DataFrame'>\n",
      "RangeIndex: 27334 entries, 0 to 27333\n",
      "Data columns (total 4 columns):\n",
      " #   Column                Non-Null Count  Dtype \n",
      "---  ------                --------------  ----- \n",
      " 0   steam_appid           27334 non-null  int64 \n",
      " 1   detailed_description  27334 non-null  object\n",
      " 2   about_the_game        27334 non-null  object\n",
      " 3   short_description     27334 non-null  object\n",
      "dtypes: int64(1), object(3)\n",
      "memory usage: 854.3+ KB\n"
     ]
    }
   ],
   "source": [
    "df3 = pd.read_csv('/data/Steam_description.csv')\n",
    "df3.info()"
   ]
  },
  {
   "cell_type": "markdown",
   "metadata": {},
   "source": [
    "#### Step 2: Compare and select one feature to use"
   ]
  },
  {
   "cell_type": "code",
   "execution_count": 164,
   "metadata": {},
   "outputs": [
    {
     "data": {
      "text/plain": [
       "True     24671\n",
       "False     2663\n",
       "Name: is_same, dtype: int64"
      ]
     },
     "execution_count": 164,
     "metadata": {},
     "output_type": "execute_result"
    }
   ],
   "source": [
    "df3['is_same'] = (df3['detailed_description'] == df3['about_the_game'])\n",
    "df3['is_same'].value_counts()"
   ]
  },
  {
   "cell_type": "code",
   "execution_count": 165,
   "metadata": {},
   "outputs": [
    {
     "data": {
      "text/plain": [
       "False    27204\n",
       "True       130\n",
       "Name: is_equal, dtype: int64"
      ]
     },
     "execution_count": 165,
     "metadata": {},
     "output_type": "execute_result"
    }
   ],
   "source": [
    "df3['is_equal'] = (df3['about_the_game'] == df3['short_description'])\n",
    "df3['is_equal'].value_counts()"
   ]
  },
  {
   "cell_type": "code",
   "execution_count": 166,
   "metadata": {},
   "outputs": [
    {
     "data": {
      "text/plain": [
       "(27334, 2)"
      ]
     },
     "execution_count": 166,
     "metadata": {},
     "output_type": "execute_result"
    }
   ],
   "source": [
    "# All three descriptions are similar in some ways, keep the detail one for future use\n",
    "des = df3[['steam_appid', 'detailed_description']]\n",
    "des.shape"
   ]
  },
  {
   "cell_type": "markdown",
   "metadata": {},
   "source": [
    "#### Step 3: Merge description back to the game data frame"
   ]
  },
  {
   "cell_type": "code",
   "execution_count": 177,
   "metadata": {},
   "outputs": [
    {
     "data": {
      "text/html": [
       "<div>\n",
       "<style scoped>\n",
       "    .dataframe tbody tr th:only-of-type {\n",
       "        vertical-align: middle;\n",
       "    }\n",
       "\n",
       "    .dataframe tbody tr th {\n",
       "        vertical-align: top;\n",
       "    }\n",
       "\n",
       "    .dataframe thead th {\n",
       "        text-align: right;\n",
       "    }\n",
       "</style>\n",
       "<table border=\"1\" class=\"dataframe\">\n",
       "  <thead>\n",
       "    <tr style=\"text-align: right;\">\n",
       "      <th></th>\n",
       "      <th>appid</th>\n",
       "      <th>name</th>\n",
       "      <th>release_date</th>\n",
       "      <th>english</th>\n",
       "      <th>developer</th>\n",
       "      <th>publisher</th>\n",
       "      <th>platforms</th>\n",
       "      <th>required_age</th>\n",
       "      <th>categories</th>\n",
       "      <th>genres</th>\n",
       "      <th>...</th>\n",
       "      <th>sexual_content</th>\n",
       "      <th>simulation</th>\n",
       "      <th>software_training</th>\n",
       "      <th>sports</th>\n",
       "      <th>strategytutorial</th>\n",
       "      <th>utilities</th>\n",
       "      <th>video_production</th>\n",
       "      <th>violent</th>\n",
       "      <th>web_publishing</th>\n",
       "      <th>detailed_description</th>\n",
       "    </tr>\n",
       "  </thead>\n",
       "  <tbody>\n",
       "    <tr>\n",
       "      <th>0</th>\n",
       "      <td>10</td>\n",
       "      <td>Counter-Strike</td>\n",
       "      <td>2000-11-01</td>\n",
       "      <td>1</td>\n",
       "      <td>Valve</td>\n",
       "      <td>Valve</td>\n",
       "      <td>windows;mac;linux</td>\n",
       "      <td>0</td>\n",
       "      <td>Multi-player;Online Multi-Player;Local Multi-P...</td>\n",
       "      <td>Action</td>\n",
       "      <td>...</td>\n",
       "      <td>0</td>\n",
       "      <td>0</td>\n",
       "      <td>0</td>\n",
       "      <td>0</td>\n",
       "      <td>0</td>\n",
       "      <td>0</td>\n",
       "      <td>0</td>\n",
       "      <td>0</td>\n",
       "      <td>0</td>\n",
       "      <td>Play the world's number 1 online action game. ...</td>\n",
       "    </tr>\n",
       "    <tr>\n",
       "      <th>1</th>\n",
       "      <td>20</td>\n",
       "      <td>Team Fortress Classic</td>\n",
       "      <td>1999-04-01</td>\n",
       "      <td>1</td>\n",
       "      <td>Valve</td>\n",
       "      <td>Valve</td>\n",
       "      <td>windows;mac;linux</td>\n",
       "      <td>0</td>\n",
       "      <td>Multi-player;Online Multi-Player;Local Multi-P...</td>\n",
       "      <td>Action</td>\n",
       "      <td>...</td>\n",
       "      <td>0</td>\n",
       "      <td>0</td>\n",
       "      <td>0</td>\n",
       "      <td>0</td>\n",
       "      <td>0</td>\n",
       "      <td>0</td>\n",
       "      <td>0</td>\n",
       "      <td>0</td>\n",
       "      <td>0</td>\n",
       "      <td>One of the most popular online action games of...</td>\n",
       "    </tr>\n",
       "    <tr>\n",
       "      <th>2</th>\n",
       "      <td>30</td>\n",
       "      <td>Day of Defeat</td>\n",
       "      <td>2003-05-01</td>\n",
       "      <td>1</td>\n",
       "      <td>Valve</td>\n",
       "      <td>Valve</td>\n",
       "      <td>windows;mac;linux</td>\n",
       "      <td>0</td>\n",
       "      <td>Multi-player;Valve Anti-Cheat enabled</td>\n",
       "      <td>Action</td>\n",
       "      <td>...</td>\n",
       "      <td>0</td>\n",
       "      <td>0</td>\n",
       "      <td>0</td>\n",
       "      <td>0</td>\n",
       "      <td>0</td>\n",
       "      <td>0</td>\n",
       "      <td>0</td>\n",
       "      <td>0</td>\n",
       "      <td>0</td>\n",
       "      <td>Enlist in an intense brand of Axis vs. Allied ...</td>\n",
       "    </tr>\n",
       "    <tr>\n",
       "      <th>3</th>\n",
       "      <td>40</td>\n",
       "      <td>Deathmatch Classic</td>\n",
       "      <td>2001-06-01</td>\n",
       "      <td>1</td>\n",
       "      <td>Valve</td>\n",
       "      <td>Valve</td>\n",
       "      <td>windows;mac;linux</td>\n",
       "      <td>0</td>\n",
       "      <td>Multi-player;Online Multi-Player;Local Multi-P...</td>\n",
       "      <td>Action</td>\n",
       "      <td>...</td>\n",
       "      <td>0</td>\n",
       "      <td>0</td>\n",
       "      <td>0</td>\n",
       "      <td>0</td>\n",
       "      <td>0</td>\n",
       "      <td>0</td>\n",
       "      <td>0</td>\n",
       "      <td>0</td>\n",
       "      <td>0</td>\n",
       "      <td>Enjoy fast-paced multiplayer gaming with Death...</td>\n",
       "    </tr>\n",
       "    <tr>\n",
       "      <th>4</th>\n",
       "      <td>50</td>\n",
       "      <td>Half-Life: Opposing Force</td>\n",
       "      <td>1999-11-01</td>\n",
       "      <td>1</td>\n",
       "      <td>Gearbox Software</td>\n",
       "      <td>Valve</td>\n",
       "      <td>windows;mac;linux</td>\n",
       "      <td>0</td>\n",
       "      <td>Single-player;Multi-player;Valve Anti-Cheat en...</td>\n",
       "      <td>Action</td>\n",
       "      <td>...</td>\n",
       "      <td>0</td>\n",
       "      <td>0</td>\n",
       "      <td>0</td>\n",
       "      <td>0</td>\n",
       "      <td>0</td>\n",
       "      <td>0</td>\n",
       "      <td>0</td>\n",
       "      <td>0</td>\n",
       "      <td>0</td>\n",
       "      <td>Return to the Black Mesa Research Facility as ...</td>\n",
       "    </tr>\n",
       "  </tbody>\n",
       "</table>\n",
       "<p>5 rows × 56 columns</p>\n",
       "</div>"
      ],
      "text/plain": [
       "   appid                       name release_date  english         developer  \\\n",
       "0     10             Counter-Strike   2000-11-01        1             Valve   \n",
       "1     20      Team Fortress Classic   1999-04-01        1             Valve   \n",
       "2     30              Day of Defeat   2003-05-01        1             Valve   \n",
       "3     40         Deathmatch Classic   2001-06-01        1             Valve   \n",
       "4     50  Half-Life: Opposing Force   1999-11-01        1  Gearbox Software   \n",
       "\n",
       "  publisher          platforms  required_age  \\\n",
       "0     Valve  windows;mac;linux             0   \n",
       "1     Valve  windows;mac;linux             0   \n",
       "2     Valve  windows;mac;linux             0   \n",
       "3     Valve  windows;mac;linux             0   \n",
       "4     Valve  windows;mac;linux             0   \n",
       "\n",
       "                                          categories  genres  ...  \\\n",
       "0  Multi-player;Online Multi-Player;Local Multi-P...  Action  ...   \n",
       "1  Multi-player;Online Multi-Player;Local Multi-P...  Action  ...   \n",
       "2              Multi-player;Valve Anti-Cheat enabled  Action  ...   \n",
       "3  Multi-player;Online Multi-Player;Local Multi-P...  Action  ...   \n",
       "4  Single-player;Multi-player;Valve Anti-Cheat en...  Action  ...   \n",
       "\n",
       "  sexual_content  simulation  software_training  sports  strategytutorial  \\\n",
       "0              0           0                  0       0                 0   \n",
       "1              0           0                  0       0                 0   \n",
       "2              0           0                  0       0                 0   \n",
       "3              0           0                  0       0                 0   \n",
       "4              0           0                  0       0                 0   \n",
       "\n",
       "   utilities  video_production  violent  web_publishing  \\\n",
       "0          0                 0        0               0   \n",
       "1          0                 0        0               0   \n",
       "2          0                 0        0               0   \n",
       "3          0                 0        0               0   \n",
       "4          0                 0        0               0   \n",
       "\n",
       "                                detailed_description  \n",
       "0  Play the world's number 1 online action game. ...  \n",
       "1  One of the most popular online action games of...  \n",
       "2  Enlist in an intense brand of Axis vs. Allied ...  \n",
       "3  Enjoy fast-paced multiplayer gaming with Death...  \n",
       "4  Return to the Black Mesa Research Facility as ...  \n",
       "\n",
       "[5 rows x 56 columns]"
      ]
     },
     "execution_count": 177,
     "metadata": {},
     "output_type": "execute_result"
    }
   ],
   "source": [
    "game_des = pd.merge(df2, des, left_on='appid', right_on='steam_appid', how='left').drop('steam_appid', axis=1)\n",
    "game_des.head()"
   ]
  },
  {
   "cell_type": "code",
   "execution_count": 179,
   "metadata": {},
   "outputs": [
    {
     "data": {
      "text/plain": [
       "(27075, 3)"
      ]
     },
     "execution_count": 179,
     "metadata": {},
     "output_type": "execute_result"
    }
   ],
   "source": [
    "# Select out features will be used\n",
    "description = game_des[['name', 'steamspy_tags', 'detailed_description']]\n",
    "description.shape"
   ]
  },
  {
   "cell_type": "code",
   "execution_count": 29,
   "metadata": {},
   "outputs": [],
   "source": [
    "# Save the final dataframe to file for future use\n",
    "description.to_csv(r'/final_data/game_description.csv', index=None)"
   ]
  },
  {
   "cell_type": "markdown",
   "metadata": {},
   "source": [
    "#### Step 4: Create a tokenizer and transforms words to TFIDF"
   ]
  },
  {
   "cell_type": "code",
   "execution_count": 175,
   "metadata": {},
   "outputs": [
    {
     "name": "stderr",
     "output_type": "stream",
     "text": [
      "[nltk_data] Downloading package wordnet to\n",
      "[nltk_data]     /Users/castielyys/nltk_data...\n",
      "[nltk_data]   Package wordnet is already up-to-date!\n",
      "[nltk_data] Downloading package stopwords to\n",
      "[nltk_data]     /Users/castielyys/nltk_data...\n",
      "[nltk_data]   Package stopwords is already up-to-date!\n"
     ]
    }
   ],
   "source": [
    "from nltk.stem import WordNetLemmatizer\n",
    "\n",
    "import nltk\n",
    "import string\n",
    "\n",
    "nltk.download('wordnet')\n",
    "nltk.download('stopwords')\n",
    "from nltk.corpus import stopwords \n",
    "ENGLISH_STOP_WORDS = stopwords.words('english')\n",
    "\n",
    "def my_tokenizer(sentence):\n",
    "    \n",
    "    for punctuation_mark in string.punctuation:\n",
    "        # Remove punctuation and set to lower case\n",
    "        sentence = sentence.replace(punctuation_mark,'').lower()\n",
    "\n",
    "    # split sentence into words\n",
    "    listofwords = sentence.split(' ')\n",
    "    listoflemmatized_words = []\n",
    "    \n",
    "        \n",
    "    # Remove stopwords and any tokens that are just empty strings\n",
    "    for word in listofwords:\n",
    "        if (not word in ENGLISH_STOP_WORDS) and (word!=''):\n",
    "            # Stem words\n",
    "            lemmatized_word = WordNetLemmatizer().lemmatize(word)\n",
    "\n",
    "            listoflemmatized_words.append(lemmatized_word)\n",
    "\n",
    "    return listoflemmatized_words"
   ]
  },
  {
   "cell_type": "code",
   "execution_count": 180,
   "metadata": {},
   "outputs": [
    {
     "name": "stderr",
     "output_type": "stream",
     "text": [
      "/opt/anaconda3/lib/python3.7/site-packages/sklearn/feature_extraction/text.py:507: UserWarning: The parameter 'token_pattern' will not be used since 'tokenizer' is not None'\n",
      "  warnings.warn(\"The parameter 'token_pattern' will not be used\"\n"
     ]
    },
    {
     "data": {
      "text/plain": [
       "(27075, 17124)"
      ]
     },
     "execution_count": 180,
     "metadata": {},
     "output_type": "execute_result"
    }
   ],
   "source": [
    "# This cell takes long time to run\n",
    "from sklearn.feature_extraction.text import TfidfVectorizer\n",
    "\n",
    "tfidf = TfidfVectorizer(min_df=10, tokenizer=my_tokenizer)\n",
    "\n",
    "index = 0\n",
    "keys = {}\n",
    "\n",
    "for game in description.itertuples() :\n",
    "    key = game[1]\n",
    "    keys[key] = index\n",
    "    index += 1\n",
    "    \n",
    "    \n",
    "tfidf.fit(description['detailed_description'])\n",
    "tfidf_scores = tfidf.transform(description['detailed_description'])\n",
    "tfidf_scores.shape"
   ]
  },
  {
   "cell_type": "markdown",
   "metadata": {},
   "source": [
    "#### Step 5 :Make the function to recommend games to user"
   ]
  },
  {
   "cell_type": "code",
   "execution_count": 182,
   "metadata": {},
   "outputs": [],
   "source": [
    "#function to look up a game TFIDF by its name.\n",
    "def get_game_by_name(name, tfidf_scores, keys):\n",
    "    row_id = keys[name]\n",
    "    row = tfidf_scores[row_id,:]\n",
    "    return row"
   ]
  },
  {
   "cell_type": "code",
   "execution_count": 183,
   "metadata": {},
   "outputs": [],
   "source": [
    "from sklearn.metrics.pairwise import cosine_similarity\n",
    "\n",
    "def content_recommender(name):\n",
    "    \n",
    "    \n",
    "    similar_games = pd.DataFrame(columns = [\"game\",\"similarity\"] )\n",
    "    \n",
    "    game_1 = get_game_by_name(name, tfidf_scores, keys)\n",
    "    \n",
    "    for game in description['name'] :\n",
    "            \n",
    "        game_2 = get_game_by_name(name,tfidf_scores,keys)\n",
    "        similarity = cosine_similarity(game_1,game_2)\n",
    "        similar_games.loc[len(similar_games)] = [game, similarity[0][0]]\n",
    "        result_df = similar_games.sort_values(by=['similarity'],ascending=False)[1:6]\n",
    "        \n",
    "    return result_df\n"
   ]
  },
  {
   "cell_type": "code",
   "execution_count": 185,
   "metadata": {},
   "outputs": [
    {
     "data": {
      "text/html": [
       "<div>\n",
       "<style scoped>\n",
       "    .dataframe tbody tr th:only-of-type {\n",
       "        vertical-align: middle;\n",
       "    }\n",
       "\n",
       "    .dataframe tbody tr th {\n",
       "        vertical-align: top;\n",
       "    }\n",
       "\n",
       "    .dataframe thead th {\n",
       "        text-align: right;\n",
       "    }\n",
       "</style>\n",
       "<table border=\"1\" class=\"dataframe\">\n",
       "  <thead>\n",
       "    <tr style=\"text-align: right;\">\n",
       "      <th></th>\n",
       "      <th>game</th>\n",
       "      <th>similarity</th>\n",
       "    </tr>\n",
       "  </thead>\n",
       "  <tbody>\n",
       "    <tr>\n",
       "      <th>18033</th>\n",
       "      <td>Clash of Magic VR</td>\n",
       "      <td>1.0</td>\n",
       "    </tr>\n",
       "    <tr>\n",
       "      <th>18057</th>\n",
       "      <td>Rocket Armor</td>\n",
       "      <td>1.0</td>\n",
       "    </tr>\n",
       "    <tr>\n",
       "      <th>18056</th>\n",
       "      <td>Ultimate Coaster X</td>\n",
       "      <td>1.0</td>\n",
       "    </tr>\n",
       "    <tr>\n",
       "      <th>18055</th>\n",
       "      <td>World Warfare</td>\n",
       "      <td>1.0</td>\n",
       "    </tr>\n",
       "    <tr>\n",
       "      <th>18054</th>\n",
       "      <td>Bonbon</td>\n",
       "      <td>1.0</td>\n",
       "    </tr>\n",
       "  </tbody>\n",
       "</table>\n",
       "</div>"
      ],
      "text/plain": [
       "                     game  similarity\n",
       "18033   Clash of Magic VR         1.0\n",
       "18057        Rocket Armor         1.0\n",
       "18056  Ultimate Coaster X         1.0\n",
       "18055       World Warfare         1.0\n",
       "18054              Bonbon         1.0"
      ]
     },
     "execution_count": 185,
     "metadata": {},
     "output_type": "execute_result"
    }
   ],
   "source": [
    "# Test the function with game 'Grand Theft Auto V'\n",
    "# This cell takes long time to run\n",
    "content_recommender('Grand Theft Auto V')"
   ]
  },
  {
   "cell_type": "code",
   "execution_count": 186,
   "metadata": {},
   "outputs": [],
   "source": [
    "a=content_recommender('Grand Theft Auto V')"
   ]
  },
  {
   "cell_type": "code",
   "execution_count": 187,
   "metadata": {},
   "outputs": [
    {
     "data": {
      "text/html": [
       "<div>\n",
       "<style scoped>\n",
       "    .dataframe tbody tr th:only-of-type {\n",
       "        vertical-align: middle;\n",
       "    }\n",
       "\n",
       "    .dataframe tbody tr th {\n",
       "        vertical-align: top;\n",
       "    }\n",
       "\n",
       "    .dataframe thead th {\n",
       "        text-align: right;\n",
       "    }\n",
       "</style>\n",
       "<table border=\"1\" class=\"dataframe\">\n",
       "  <thead>\n",
       "    <tr style=\"text-align: right;\">\n",
       "      <th></th>\n",
       "      <th>name</th>\n",
       "      <th>steamspy_tags</th>\n",
       "      <th>detailed_description</th>\n",
       "      <th>similarity</th>\n",
       "    </tr>\n",
       "  </thead>\n",
       "  <tbody>\n",
       "    <tr>\n",
       "      <th>0</th>\n",
       "      <td>Clash of Magic VR</td>\n",
       "      <td>Early Access;Strategy;VR</td>\n",
       "      <td>Clash of Magic is a VR tower rush game for tru...</td>\n",
       "      <td>1.0</td>\n",
       "    </tr>\n",
       "    <tr>\n",
       "      <th>1</th>\n",
       "      <td>Bonbon</td>\n",
       "      <td>Indie;Adventure;Horror</td>\n",
       "      <td>Bonbon is a short, first-person domestic horro...</td>\n",
       "      <td>1.0</td>\n",
       "    </tr>\n",
       "    <tr>\n",
       "      <th>2</th>\n",
       "      <td>World Warfare</td>\n",
       "      <td>Early Access;Strategy;Free to Play</td>\n",
       "      <td>World Warfare is an intense 3D, Real-time Stra...</td>\n",
       "      <td>1.0</td>\n",
       "    </tr>\n",
       "    <tr>\n",
       "      <th>3</th>\n",
       "      <td>Ultimate Coaster X</td>\n",
       "      <td>Early Access;Simulation</td>\n",
       "      <td>Ultimate Coaster X is a free roller coaster si...</td>\n",
       "      <td>1.0</td>\n",
       "    </tr>\n",
       "    <tr>\n",
       "      <th>4</th>\n",
       "      <td>Rocket Armor</td>\n",
       "      <td>Early Access;Racing;Simulation</td>\n",
       "      <td>Rocket Armor is the most realistic and excitin...</td>\n",
       "      <td>1.0</td>\n",
       "    </tr>\n",
       "  </tbody>\n",
       "</table>\n",
       "</div>"
      ],
      "text/plain": [
       "                 name                       steamspy_tags  \\\n",
       "0   Clash of Magic VR            Early Access;Strategy;VR   \n",
       "1              Bonbon              Indie;Adventure;Horror   \n",
       "2       World Warfare  Early Access;Strategy;Free to Play   \n",
       "3  Ultimate Coaster X             Early Access;Simulation   \n",
       "4        Rocket Armor      Early Access;Racing;Simulation   \n",
       "\n",
       "                                detailed_description  similarity  \n",
       "0  Clash of Magic is a VR tower rush game for tru...         1.0  \n",
       "1  Bonbon is a short, first-person domestic horro...         1.0  \n",
       "2  World Warfare is an intense 3D, Real-time Stra...         1.0  \n",
       "3  Ultimate Coaster X is a free roller coaster si...         1.0  \n",
       "4  Rocket Armor is the most realistic and excitin...         1.0  "
      ]
     },
     "execution_count": 187,
     "metadata": {},
     "output_type": "execute_result"
    }
   ],
   "source": [
    "# Compare description of each recommended game \n",
    "testing = pd.merge(description, a, left_on='name', right_on='game', how='right')\n",
    "testing.drop('game', axis=1)"
   ]
  }
 ],
 "metadata": {
  "kernelspec": {
   "display_name": "Python 3",
   "language": "python",
   "name": "python3"
  },
  "language_info": {
   "codemirror_mode": {
    "name": "ipython",
    "version": 3
   },
   "file_extension": ".py",
   "mimetype": "text/x-python",
   "name": "python",
   "nbconvert_exporter": "python",
   "pygments_lexer": "ipython3",
   "version": "3.7.6"
  }
 },
 "nbformat": 4,
 "nbformat_minor": 4
}
